{
  "nbformat": 4,
  "nbformat_minor": 0,
  "metadata": {
    "colab": {
      "name": "LeetCode.ipynb",
      "provenance": [],
      "authorship_tag": "ABX9TyPjGr/FT2FEdH+sbkkQ2WA/"
    },
    "kernelspec": {
      "name": "python3",
      "display_name": "Python 3"
    },
    "language_info": {
      "name": "python"
    },
    "accelerator": "GPU"
  },
  "cells": [
    {
      "cell_type": "markdown",
      "metadata": {
        "id": "uuK2cfu_fjHd"
      },
      "source": [
        "# Max Consecutive Ones\n",
        "\n",
        "\n",
        "Given a binary array nums, return the maximum number of consecutive 1's in the array.\n",
        "\n",
        "Example 1:\n",
        "\n",
        "Input: nums = [1,1,0,1,1,1]\n",
        "Output: 3\n",
        "\n",
        "Explanation: The first two digits or the last three digits are consecutive 1s. The maximum number of consecutive 1s is 3.\n",
        "\n",
        "Example 2:\n",
        "\n",
        "Input: nums = [1,0,1,1,0,1]\n",
        "Output: 2\n",
        "\n",
        "Constraints:\n",
        "\n",
        "*   1 <= nums.length <= 105   \n",
        "*   nums[i] is either 0 or 1."
      ]
    },
    {
      "cell_type": "code",
      "metadata": {
        "id": "IQpHX80udJxW",
        "colab": {
          "base_uri": "https://localhost:8080/"
        },
        "outputId": "111079fc-808c-4bcf-e716-5eb778987d2f"
      },
      "source": [
        "import numpy as np\n",
        "\n",
        "def max_consec_ones(nums):\n",
        "    # Initialise counter and count of ones to zero\n",
        "    counter = 0\n",
        "    count_ones = 0\n",
        "    \n",
        "    # loop through each elements in the array\n",
        "    for i in range(len(nums)):\n",
        "        if nums[i] == 1:\n",
        "            counter += 1        \n",
        "        if counter > count_ones:\n",
        "            count_ones += 1\n",
        "        if nums[i] == 0:\n",
        "            counter = 0      # reset counter whenever the element is zero    \n",
        "    \n",
        "    return count_ones\n",
        "\n",
        "print(max_consec_ones([1,1,0,1,1,1]))\n",
        "print(max_consec_ones([1,0,1,1,0,1]))\n",
        "print(max_consec_ones([0,1]))\n",
        "print(max_consec_ones([]))"
      ],
      "execution_count": 25,
      "outputs": [
        {
          "output_type": "stream",
          "text": [
            "3\n",
            "2\n",
            "1\n",
            "0\n"
          ],
          "name": "stdout"
        }
      ]
    },
    {
      "cell_type": "code",
      "metadata": {
        "id": "9b1d40zLH_PI"
      },
      "source": [
        ""
      ],
      "execution_count": null,
      "outputs": []
    }
  ]
}