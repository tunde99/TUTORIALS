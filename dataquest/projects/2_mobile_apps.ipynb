{
 "cells": [
  {
   "cell_type": "markdown",
   "metadata": {},
   "source": [
    "# Mobile Apps Analysis\n",
    "\n",
    "Guided Project: Profitable App Profiles for the App Store and Google Play Markets\n",
    "\n",
    "The goal of the project is to analyse data to determine which apps users would prefer to use.\n",
    "\n",
    "Mobile apps are: \n",
    "* available for English users\n",
    "* free to download and install. \n",
    "\n",
    "\n",
    "[Apple apps store dataset](https://www.kaggle.com/datasets/ramamet4/app-store-apple-data-set-10k-apps)\n",
    "\n",
    "[Google play store apps dataset](https://www.kaggle.com/datasets/lava18/google-play-store-apps)"
   ]
  },
  {
   "cell_type": "code",
   "execution_count": 1,
   "metadata": {},
   "outputs": [],
   "source": [
    "from csv import reader\n",
    "\n",
    "apple_file = open(\"AppleStore.csv\", encoding=\"utf8\")\n",
    "read_apple_file = list(reader(apple_file))\n",
    "\n",
    "google_file = open(\"googleplaystore.csv\", encoding=\"utf8\")\n",
    "read_google_file = list(reader(google_file))"
   ]
  },
  {
   "cell_type": "code",
   "execution_count": 2,
   "metadata": {},
   "outputs": [],
   "source": [
    "\"\"\"\n",
    "A function to explore dataset\n",
    "\n",
    "Parameters\n",
    "    dataset : list\n",
    "        The data to be read\n",
    "    start : int\n",
    "        Index of the first row\n",
    "    end : int\n",
    "        Index of the last row\n",
    "\n",
    "Returns\n",
    "    Nothing\n",
    "\"\"\"\n",
    "def explore_data(dataset, start, end, rows_and_columns=False):\n",
    "    dataset_slice = dataset[start:end]    \n",
    "    for row in dataset_slice:\n",
    "        print(row)\n",
    "        print('\\n') # adds a new (empty) line after each row\n",
    "\n",
    "    if rows_and_columns:\n",
    "        print('Number of rows:', len(dataset))\n",
    "        print('Number of columns:', len(dataset[0]))"
   ]
  },
  {
   "cell_type": "code",
   "execution_count": 3,
   "metadata": {},
   "outputs": [],
   "source": [
    "#explore_data(read_apple_file, 1, len(read_apple_file))"
   ]
  },
  {
   "cell_type": "code",
   "execution_count": 4,
   "metadata": {},
   "outputs": [],
   "source": [
    "#explore_data(read_apple_file, 1, len(read_apple_file))"
   ]
  },
  {
   "cell_type": "code",
   "execution_count": 5,
   "metadata": {
    "scrolled": true
   },
   "outputs": [
    {
     "name": "stdout",
     "output_type": "stream",
     "text": [
      "7198\n",
      "10842\n"
     ]
    }
   ],
   "source": [
    "# Data with header\n",
    "print(len(read_apple_file))\n",
    "print(len(read_google_file))"
   ]
  },
  {
   "cell_type": "code",
   "execution_count": 6,
   "metadata": {},
   "outputs": [
    {
     "data": {
      "text/plain": [
       "['App',\n",
       " 'Category',\n",
       " 'Rating',\n",
       " 'Reviews',\n",
       " 'Size',\n",
       " 'Installs',\n",
       " 'Type',\n",
       " 'Price',\n",
       " 'Content Rating',\n",
       " 'Genres',\n",
       " 'Last Updated',\n",
       " 'Current Ver',\n",
       " 'Android Ver']"
      ]
     },
     "execution_count": 6,
     "metadata": {},
     "output_type": "execute_result"
    }
   ],
   "source": [
    "google_header = read_google_file[0]\n",
    "google_header"
   ]
  },
  {
   "cell_type": "code",
   "execution_count": 7,
   "metadata": {},
   "outputs": [
    {
     "data": {
      "text/plain": [
       "['id',\n",
       " 'track_name',\n",
       " 'size_bytes',\n",
       " 'currency',\n",
       " 'price',\n",
       " 'rating_count_tot',\n",
       " 'rating_count_ver',\n",
       " 'user_rating',\n",
       " 'user_rating_ver',\n",
       " 'ver',\n",
       " 'cont_rating',\n",
       " 'prime_genre',\n",
       " 'sup_devices.num',\n",
       " 'ipadSc_urls.num',\n",
       " 'lang.num',\n",
       " 'vpp_lic']"
      ]
     },
     "execution_count": 7,
     "metadata": {},
     "output_type": "execute_result"
    }
   ],
   "source": [
    "apple_header = read_apple_file[0]\n",
    "apple_header"
   ]
  },
  {
   "cell_type": "code",
   "execution_count": 8,
   "metadata": {},
   "outputs": [],
   "source": [
    "# Remove header\n",
    "apple_data = read_apple_file[1:]\n",
    "google_data = read_google_file[1:]"
   ]
  },
  {
   "cell_type": "code",
   "execution_count": 9,
   "metadata": {},
   "outputs": [
    {
     "name": "stdout",
     "output_type": "stream",
     "text": [
      "Length of apple data: 7197\n",
      "Length of google data: 10841\n"
     ]
    }
   ],
   "source": [
    "print(f\"Length of apple data: {len(apple_data)}\")\n",
    "print(f\"Length of google data: {len(google_data)}\")"
   ]
  },
  {
   "cell_type": "markdown",
   "metadata": {},
   "source": [
    "# Data  Cleaning"
   ]
  },
  {
   "cell_type": "markdown",
   "metadata": {},
   "source": [
    "Let's start by removing row with missing entry from the google playstore dataset."
   ]
  },
  {
   "cell_type": "code",
   "execution_count": 10,
   "metadata": {},
   "outputs": [
    {
     "name": "stdout",
     "output_type": "stream",
     "text": [
      "10472 12\n"
     ]
    }
   ],
   "source": [
    "# check for row with missing column entry\n",
    "for row in google_data:\n",
    "    if len(row) != len(google_data[0]):\n",
    "        print(google_data.index(row), len(row))"
   ]
  },
  {
   "cell_type": "code",
   "execution_count": 11,
   "metadata": {},
   "outputs": [
    {
     "data": {
      "text/plain": [
       "['Life Made WI-Fi Touchscreen Photo Frame',\n",
       " '1.9',\n",
       " '19',\n",
       " '3.0M',\n",
       " '1,000+',\n",
       " 'Free',\n",
       " '0',\n",
       " 'Everyone',\n",
       " '',\n",
       " 'February 11, 2018',\n",
       " '1.0.19',\n",
       " '4.0 and up']"
      ]
     },
     "execution_count": 11,
     "metadata": {},
     "output_type": "execute_result"
    }
   ],
   "source": [
    "google_data[10472]"
   ]
  },
  {
   "cell_type": "code",
   "execution_count": 12,
   "metadata": {
    "scrolled": true
   },
   "outputs": [
    {
     "data": {
      "text/plain": [
       "['App',\n",
       " 'Category',\n",
       " 'Rating',\n",
       " 'Reviews',\n",
       " 'Size',\n",
       " 'Installs',\n",
       " 'Type',\n",
       " 'Price',\n",
       " 'Content Rating',\n",
       " 'Genres',\n",
       " 'Last Updated',\n",
       " 'Current Ver',\n",
       " 'Android Ver']"
      ]
     },
     "execution_count": 12,
     "metadata": {},
     "output_type": "execute_result"
    }
   ],
   "source": [
    "read_google_file[0]"
   ]
  },
  {
   "cell_type": "code",
   "execution_count": 13,
   "metadata": {},
   "outputs": [],
   "source": [
    "del google_data[10472] # delete row with error"
   ]
  },
  {
   "cell_type": "code",
   "execution_count": 14,
   "metadata": {},
   "outputs": [
    {
     "data": {
      "text/plain": [
       "10840"
      ]
     },
     "execution_count": 14,
     "metadata": {},
     "output_type": "execute_result"
    }
   ],
   "source": [
    "len(google_data)"
   ]
  },
  {
   "cell_type": "code",
   "execution_count": 15,
   "metadata": {},
   "outputs": [
    {
     "name": "stdout",
     "output_type": "stream",
     "text": [
      "1181\n",
      "10840\n"
     ]
    }
   ],
   "source": [
    "# check for duplicates\n",
    "unique_rows = []\n",
    "duplicate_rows = []\n",
    "\n",
    "for row in google_data:\n",
    "    name = row[0]\n",
    "    \n",
    "    if name in unique_rows:\n",
    "        duplicate_rows.append(name)\n",
    "    unique_rows.append(name)\n",
    "print(len(duplicate_rows))\n",
    "print(len(unique_rows))\n"
   ]
  },
  {
   "cell_type": "code",
   "execution_count": 16,
   "metadata": {},
   "outputs": [
    {
     "name": "stdout",
     "output_type": "stream",
     "text": [
      "['Quick PDF Scanner + OCR FREE', 'Box', 'Google My Business', 'ZOOM Cloud Meetings', 'join.me - Simple Meetings']\n"
     ]
    }
   ],
   "source": [
    "print(duplicate_rows[0:5])"
   ]
  },
  {
   "cell_type": "code",
   "execution_count": 17,
   "metadata": {
    "scrolled": true
   },
   "outputs": [
    {
     "name": "stdout",
     "output_type": "stream",
     "text": [
      "Expected length:  9659\n"
     ]
    }
   ],
   "source": [
    "print(f\"Expected length: \",len(google_data) - len(duplicate_rows))"
   ]
  },
  {
   "cell_type": "code",
   "execution_count": 18,
   "metadata": {},
   "outputs": [
    {
     "data": {
      "text/plain": [
       "['App',\n",
       " 'Category',\n",
       " 'Rating',\n",
       " 'Reviews',\n",
       " 'Size',\n",
       " 'Installs',\n",
       " 'Type',\n",
       " 'Price',\n",
       " 'Content Rating',\n",
       " 'Genres',\n",
       " 'Last Updated',\n",
       " 'Current Ver',\n",
       " 'Android Ver']"
      ]
     },
     "execution_count": 18,
     "metadata": {},
     "output_type": "execute_result"
    }
   ],
   "source": [
    "read_google_file[0]"
   ]
  },
  {
   "cell_type": "code",
   "execution_count": 19,
   "metadata": {},
   "outputs": [],
   "source": [
    "# Remove duplicates from the dataset\n",
    "\n",
    "reviews_max = {} # dictionary to hold apps with highest reviews\n",
    "\n",
    "for row in google_data: # google_data is the google play store dataset without header\n",
    "    name = row[0]\n",
    "    n_reviews = float(row[3]) # float needed when comparing reviews to get the highest \n",
    "    \n",
    "    # check if app exist in the dictionary and the previous review in the dictionary is lesser than the new review\n",
    "    if name in reviews_max and reviews_max[name] < n_reviews:\n",
    "        reviews_max[name] = n_reviews    \n",
    "    # otherwise create a review for it in the dictionary\n",
    "    if name not in reviews_max:\n",
    "        reviews_max[name] = n_reviews\n",
    "# use the dictionary of max reviews to clean the google play dataset\n",
    "android_clean = [] # to store new cleaned dataset\n",
    "already_added = [] # to store app names\n",
    "\n",
    "for row in google_data:\n",
    "    name = row[0]\n",
    "    n_reviews = float(row[3])\n",
    "    \n",
    "    if n_reviews == reviews_max[name] and name not in already_added:\n",
    "        android_clean.append(row)\n",
    "        already_added.append(name)\n"
   ]
  },
  {
   "cell_type": "markdown",
   "metadata": {},
   "source": [
    "Note: android_clean is the cleaned goole playstore data. \n",
    "\n",
    "Check if apple ios store data has duplicates."
   ]
  },
  {
   "cell_type": "code",
   "execution_count": 20,
   "metadata": {},
   "outputs": [
    {
     "name": "stdout",
     "output_type": "stream",
     "text": [
      "['id', 'track_name', 'size_bytes', 'currency', 'price', 'rating_count_tot', 'rating_count_ver', 'user_rating', 'user_rating_ver', 'ver', 'cont_rating', 'prime_genre', 'sup_devices.num', 'ipadSc_urls.num', 'lang.num', 'vpp_lic']\n"
     ]
    }
   ],
   "source": [
    "print(apple_header)"
   ]
  },
  {
   "cell_type": "code",
   "execution_count": 21,
   "metadata": {},
   "outputs": [],
   "source": [
    "duplicate_apple_rows = []\n",
    "unique_apple_rows = []\n",
    "\n",
    "for row in apple_data:\n",
    "    id = row[0]\n",
    "    if id in duplicate_apple_rows:\n",
    "        duplicate_apple_rows.append(id)\n",
    "    unique_apple_rows.append(id)"
   ]
  },
  {
   "cell_type": "code",
   "execution_count": 22,
   "metadata": {},
   "outputs": [
    {
     "name": "stdout",
     "output_type": "stream",
     "text": [
      "SIZES OF APPLE DATA\n",
      "-------------------\n",
      "apple data: 7197\n",
      "duplicate data: 0\n",
      "unique data: 7197\n"
     ]
    }
   ],
   "source": [
    "print(\"SIZES OF APPLE DATA\")\n",
    "print(\"-------------------\")\n",
    "print(f\"apple data: {len(apple_data)}\")\n",
    "print(f\"duplicate data: {len(duplicate_apple_rows)}\")\n",
    "print(f\"unique data: {len(unique_apple_rows)}\")"
   ]
  },
  {
   "cell_type": "markdown",
   "metadata": {},
   "source": [
    "From the look of things, the apple data does not have duplicates."
   ]
  },
  {
   "cell_type": "markdown",
   "metadata": {},
   "source": [
    "## Non-English apps\n",
    "\n",
    "Some of the apps contain information that are not in English. We are trying to analyse data on mobile apps for English users."
   ]
  },
  {
   "cell_type": "code",
   "execution_count": 23,
   "metadata": {
    "scrolled": true
   },
   "outputs": [
    {
     "name": "stdout",
     "output_type": "stream",
     "text": [
      "爱奇艺PPS -《欢乐颂2》电视剧热播\n",
      "中国語 AQリスニング\n"
     ]
    }
   ],
   "source": [
    "print(apple_data[813][1])\n",
    "print(android_clean[4412][0])"
   ]
  },
  {
   "cell_type": "markdown",
   "metadata": {},
   "source": [
    "Let's remove the apps with names that contain non-English symbols. The ASCII range of English characters are 0-127."
   ]
  },
  {
   "cell_type": "code",
   "execution_count": 24,
   "metadata": {
    "scrolled": true
   },
   "outputs": [
    {
     "name": "stdout",
     "output_type": "stream",
     "text": [
      "65\n",
      "43\n"
     ]
    }
   ],
   "source": [
    "# Use ord() to check ASCII equivalent of a string character\n",
    "print(ord(\"A\"))\n",
    "print(ord(\"+\"))"
   ]
  },
  {
   "cell_type": "markdown",
   "metadata": {},
   "source": [
    "Since ord() takes in only characters, loop through a string to read the ASCII equivalent of the entire string. For instance:"
   ]
  },
  {
   "cell_type": "code",
   "execution_count": 25,
   "metadata": {},
   "outputs": [
    {
     "name": "stdout",
     "output_type": "stream",
     "text": [
      "100\n",
      "111\n",
      "103\n"
     ]
    }
   ],
   "source": [
    "for letter in \"dog\":\n",
    "    print(ord(letter))"
   ]
  },
  {
   "cell_type": "code",
   "execution_count": 26,
   "metadata": {},
   "outputs": [],
   "source": [
    "\"\"\"\n",
    "A function to remove rows corresponding to non-English apps\n",
    "\n",
    "Parameters\n",
    "    a_string : string\n",
    "        The input string\n",
    "\n",
    "Return\n",
    "    False : Boolean\n",
    "        The output of the function if condition is met\n",
    "\n",
    "\"\"\"\n",
    "def check_english(a_string):\n",
    "    for element in a_string:\n",
    "        if ord(element) < 0 or ord(element) > 127:\n",
    "            return False  "
   ]
  },
  {
   "cell_type": "code",
   "execution_count": 27,
   "metadata": {},
   "outputs": [
    {
     "name": "stdout",
     "output_type": "stream",
     "text": [
      "None\n",
      "False\n",
      "False\n",
      "False\n"
     ]
    }
   ],
   "source": [
    "check_list = ['Instagram',\n",
    "'爱奇艺PPS -《欢乐颂2》电视剧热播',\n",
    "'Docs To Go™ Free Office Suite',\n",
    "'Instachat 😜']\n",
    "\n",
    "for element in check_list:\n",
    "    print(check_english(element))"
   ]
  },
  {
   "cell_type": "code",
   "execution_count": 28,
   "metadata": {},
   "outputs": [
    {
     "name": "stdout",
     "output_type": "stream",
     "text": [
      "128540\n"
     ]
    }
   ],
   "source": [
    "print(ord(\"😜\"))"
   ]
  },
  {
   "cell_type": "markdown",
   "metadata": {},
   "source": [
    "The check_english() function could not detect apps with English names that contain emojis. \n",
    "\n",
    "*A not too perfect hack:*\n",
    "\n",
    "Let's edit the check_english() function to only remove an app if its name has more than three characters with corresponding numbers falling outside the ASCII range."
   ]
  },
  {
   "cell_type": "code",
   "execution_count": 29,
   "metadata": {},
   "outputs": [],
   "source": [
    "\"\"\"\n",
    "A function to check if rows corresponding to non-English apps exist\n",
    "\n",
    "Parameters\n",
    "    a_string : string\n",
    "        The input string\n",
    "\n",
    "Return\n",
    "    False : Boolean\n",
    "        The output of the function if condition is met\n",
    "\n",
    "\"\"\"\n",
    "def english_checker(a_string):\n",
    "    count = 0\n",
    "    for element in a_string:\n",
    "        if ord(element) < 0 or ord(element) > 127:\n",
    "            count +=1\n",
    "        if count > 3:\n",
    "            return False  "
   ]
  },
  {
   "cell_type": "code",
   "execution_count": 30,
   "metadata": {},
   "outputs": [
    {
     "name": "stdout",
     "output_type": "stream",
     "text": [
      "None\n",
      "False\n",
      "None\n",
      "None\n"
     ]
    }
   ],
   "source": [
    "check_language = ['Instagram',\n",
    "'爱奇艺PPS -《欢乐颂2》电视剧热播',\n",
    "'Docs To Go™ Free Office Suite',\n",
    "'Instachat 😜']\n",
    "\n",
    "for element in check_list:\n",
    "    print(english_checker(element))"
   ]
  },
  {
   "cell_type": "markdown",
   "metadata": {},
   "source": [
    "Remove apps from **apple_data** and **android_clean** datasets with non-English names using the english_checker function. "
   ]
  },
  {
   "cell_type": "code",
   "execution_count": 31,
   "metadata": {},
   "outputs": [
    {
     "name": "stdout",
     "output_type": "stream",
     "text": [
      "['id', 'track_name', 'size_bytes', 'currency', 'price', 'rating_count_tot', 'rating_count_ver', 'user_rating', 'user_rating_ver', 'ver', 'cont_rating', 'prime_genre', 'sup_devices.num', 'ipadSc_urls.num', 'lang.num', 'vpp_lic']\n"
     ]
    }
   ],
   "source": [
    "print(apple_header)"
   ]
  },
  {
   "cell_type": "code",
   "execution_count": 32,
   "metadata": {
    "scrolled": true
   },
   "outputs": [
    {
     "name": "stdout",
     "output_type": "stream",
     "text": [
      "['App', 'Category', 'Rating', 'Reviews', 'Size', 'Installs', 'Type', 'Price', 'Content Rating', 'Genres', 'Last Updated', 'Current Ver', 'Android Ver']\n"
     ]
    }
   ],
   "source": [
    "print(google_header)"
   ]
  },
  {
   "cell_type": "code",
   "execution_count": 33,
   "metadata": {},
   "outputs": [],
   "source": [
    "# Apple\n",
    "ios_data = []\n",
    "bad_ios_data = []\n",
    "for row in apple_data:\n",
    "    track_name = row[1]\n",
    "    \n",
    "    if english_checker(track_name) == False:\n",
    "        bad_ios_data.append(row)\n",
    "    if english_checker(track_name) == None:\n",
    "        ios_data.append(row)"
   ]
  },
  {
   "cell_type": "code",
   "execution_count": 34,
   "metadata": {},
   "outputs": [
    {
     "data": {
      "text/plain": [
       "7197"
      ]
     },
     "execution_count": 34,
     "metadata": {},
     "output_type": "execute_result"
    }
   ],
   "source": [
    "len(apple_data)"
   ]
  },
  {
   "cell_type": "code",
   "execution_count": 35,
   "metadata": {},
   "outputs": [
    {
     "data": {
      "text/plain": [
       "6183"
      ]
     },
     "execution_count": 35,
     "metadata": {},
     "output_type": "execute_result"
    }
   ],
   "source": [
    "len(ios_data)"
   ]
  },
  {
   "cell_type": "code",
   "execution_count": 36,
   "metadata": {
    "scrolled": true
   },
   "outputs": [
    {
     "data": {
      "text/plain": [
       "1014"
      ]
     },
     "execution_count": 36,
     "metadata": {},
     "output_type": "execute_result"
    }
   ],
   "source": [
    "len(bad_ios_data)"
   ]
  },
  {
   "cell_type": "code",
   "execution_count": 37,
   "metadata": {},
   "outputs": [],
   "source": [
    "# Google\n",
    "android_data = []\n",
    "bad_android_data = []\n",
    "for row in android_clean:\n",
    "    app_name = row[0]\n",
    "    \n",
    "    if english_checker(app_name) == False:\n",
    "        bad_android_data.append(row)\n",
    "    if english_checker(app_name) == None:\n",
    "        android_data.append(row)"
   ]
  },
  {
   "cell_type": "code",
   "execution_count": 38,
   "metadata": {
    "scrolled": false
   },
   "outputs": [
    {
     "data": {
      "text/plain": [
       "9659"
      ]
     },
     "execution_count": 38,
     "metadata": {},
     "output_type": "execute_result"
    }
   ],
   "source": [
    "len(android_clean)"
   ]
  },
  {
   "cell_type": "code",
   "execution_count": 39,
   "metadata": {},
   "outputs": [
    {
     "data": {
      "text/plain": [
       "9614"
      ]
     },
     "execution_count": 39,
     "metadata": {},
     "output_type": "execute_result"
    }
   ],
   "source": [
    "len(android_data)"
   ]
  },
  {
   "cell_type": "code",
   "execution_count": 40,
   "metadata": {},
   "outputs": [
    {
     "data": {
      "text/plain": [
       "45"
      ]
     },
     "execution_count": 40,
     "metadata": {},
     "output_type": "execute_result"
    }
   ],
   "source": [
    "len(bad_android_data)"
   ]
  },
  {
   "cell_type": "markdown",
   "metadata": {},
   "source": [
    "After checking for English or non-English apps:\n",
    "\n",
    "Size of android_data: 9614\n",
    "\n",
    "Size of ios_data: 6183"
   ]
  },
  {
   "cell_type": "markdown",
   "metadata": {},
   "source": [
    "## Remove non-free apps"
   ]
  },
  {
   "cell_type": "code",
   "execution_count": 41,
   "metadata": {},
   "outputs": [
    {
     "data": {
      "text/plain": [
       "['App',\n",
       " 'Category',\n",
       " 'Rating',\n",
       " 'Reviews',\n",
       " 'Size',\n",
       " 'Installs',\n",
       " 'Type',\n",
       " 'Price',\n",
       " 'Content Rating',\n",
       " 'Genres',\n",
       " 'Last Updated',\n",
       " 'Current Ver',\n",
       " 'Android Ver']"
      ]
     },
     "execution_count": 41,
     "metadata": {},
     "output_type": "execute_result"
    }
   ],
   "source": [
    "google_header"
   ]
  },
  {
   "cell_type": "code",
   "execution_count": 42,
   "metadata": {},
   "outputs": [],
   "source": [
    "free_android = []\n",
    "\n",
    "for row in android_data:\n",
    "    if row[7] == \"$0.0\" or row[7] == \"0.0\" or row[7] == \"0\":\n",
    "        free_android.append(row)"
   ]
  },
  {
   "cell_type": "code",
   "execution_count": 43,
   "metadata": {
    "scrolled": false
   },
   "outputs": [
    {
     "name": "stdout",
     "output_type": "stream",
     "text": [
      "8864\n"
     ]
    }
   ],
   "source": [
    "print(len(free_android))"
   ]
  },
  {
   "cell_type": "code",
   "execution_count": 44,
   "metadata": {
    "scrolled": true
   },
   "outputs": [
    {
     "data": {
      "text/plain": [
       "['id',\n",
       " 'track_name',\n",
       " 'size_bytes',\n",
       " 'currency',\n",
       " 'price',\n",
       " 'rating_count_tot',\n",
       " 'rating_count_ver',\n",
       " 'user_rating',\n",
       " 'user_rating_ver',\n",
       " 'ver',\n",
       " 'cont_rating',\n",
       " 'prime_genre',\n",
       " 'sup_devices.num',\n",
       " 'ipadSc_urls.num',\n",
       " 'lang.num',\n",
       " 'vpp_lic']"
      ]
     },
     "execution_count": 44,
     "metadata": {},
     "output_type": "execute_result"
    }
   ],
   "source": [
    "apple_header"
   ]
  },
  {
   "cell_type": "code",
   "execution_count": 45,
   "metadata": {
    "scrolled": true
   },
   "outputs": [],
   "source": [
    "free_ios = []\n",
    "for row in ios_data:\n",
    "    if row[4] == \"$0.0\" or row[4] == \"0.0\" or row[4] == \"0\":\n",
    "        free_ios.append(row)       "
   ]
  },
  {
   "cell_type": "code",
   "execution_count": 46,
   "metadata": {},
   "outputs": [
    {
     "name": "stdout",
     "output_type": "stream",
     "text": [
      "3222\n"
     ]
    }
   ],
   "source": [
    "print(len(free_ios))"
   ]
  },
  {
   "cell_type": "markdown",
   "metadata": {},
   "source": [
    "Size of free_android: 8864\n",
    "\n",
    "Size of free_ios: 3222"
   ]
  },
  {
   "cell_type": "markdown",
   "metadata": {},
   "source": [
    "## Data analysis"
   ]
  },
  {
   "cell_type": "markdown",
   "metadata": {},
   "source": [
    "The goal of the project is to build mobile apps for both google store and iOS store. e are trying to analyse apps on these stores to see what attributes they possess that attracts users.\n",
    "\n",
    "\n",
    "After cleaning the data, we have two datasets:\n",
    "\n",
    "* free_android, length 8864 (header: google_header)\n",
    "\n",
    "* free_ios, length 3222 (header: apple_header)"
   ]
  },
  {
   "cell_type": "markdown",
   "metadata": {},
   "source": [
    "To generate frequency table (in percent), the **prime_genre** (at index 11) column is useful for the free_ios data, while the **Category** (at index 1) and **Genres** (at index 9) columns of the free_android data.\n",
    "\n",
    "The frequency table (a dictionary) can be constructed using the algorithm:\n",
    "\n",
    "* create an empty dictionary\n",
    "\n",
    "* initialise a total as zero\n",
    "\n",
    "* loop through the data\n",
    "    \n",
    "    * increment total for every row to get the total entries\n",
    "    \n",
    "    * increment row value if found in the dictionary\n",
    "    \n",
    "    * if not found, create a row value by assigning 1 to that value.\n",
    "    \n",
    "\n",
    "The percentages table can use the created frequency table (dictionary) to get percentage values for all key-value pairs using  value of key / total * 100"
   ]
  },
  {
   "cell_type": "code",
   "execution_count": 47,
   "metadata": {},
   "outputs": [],
   "source": [
    "# Create frequency table\n",
    "# Google play\n",
    "\n",
    "def frequency_table(dataset, index): # index is the column number in the data\n",
    "    freq_table = {}\n",
    "    total = 0\n",
    "    \n",
    "    for row in dataset:\n",
    "        total += 1\n",
    "        value = row[index]\n",
    "\n",
    "        if value in freq_table:\n",
    "            freq_table[value] +=1\n",
    "        else:\n",
    "            freq_table[value] = 1\n",
    "    \n",
    "    percentage_table = {}\n",
    "    \n",
    "    for key in freq_table:\n",
    "        percent = freq_table[key] / total * 100\n",
    "        \n",
    "        percentage_table[key] = percent\n",
    "        \n",
    "    return percentage_table"
   ]
  },
  {
   "cell_type": "code",
   "execution_count": 48,
   "metadata": {},
   "outputs": [
    {
     "data": {
      "text/plain": [
       "{'Social Networking': 3.2898820608317814,\n",
       " 'Photo & Video': 4.9658597144630665,\n",
       " 'Games': 58.16263190564867,\n",
       " 'Music': 2.0484171322160147,\n",
       " 'Reference': 0.5586592178770949,\n",
       " 'Health & Fitness': 2.0173805090006205,\n",
       " 'Weather': 0.8690254500310366,\n",
       " 'Utilities': 2.5139664804469275,\n",
       " 'Travel': 1.2414649286157666,\n",
       " 'Shopping': 2.60707635009311,\n",
       " 'News': 1.3345747982619491,\n",
       " 'Navigation': 0.186219739292365,\n",
       " 'Lifestyle': 1.5828677839851024,\n",
       " 'Entertainment': 7.883302296710118,\n",
       " 'Food & Drink': 0.8069522036002483,\n",
       " 'Sports': 2.1415270018621975,\n",
       " 'Book': 0.4345127250155183,\n",
       " 'Finance': 1.1173184357541899,\n",
       " 'Education': 3.662321539416512,\n",
       " 'Productivity': 1.7380509000620732,\n",
       " 'Business': 0.5276225946617008,\n",
       " 'Catalogs': 0.12414649286157665,\n",
       " 'Medical': 0.186219739292365}"
      ]
     },
     "execution_count": 48,
     "metadata": {},
     "output_type": "execute_result"
    }
   ],
   "source": [
    "frequency_table(free_ios, 11) # prime_genre"
   ]
  },
  {
   "cell_type": "code",
   "execution_count": 49,
   "metadata": {},
   "outputs": [],
   "source": [
    "android_freq = frequency_table(free_android, 9)"
   ]
  },
  {
   "cell_type": "code",
   "execution_count": 50,
   "metadata": {},
   "outputs": [
    {
     "data": {
      "text/plain": [
       "{'Art & Design': 0.5979241877256317,\n",
       " 'Art & Design;Creativity': 0.06768953068592057,\n",
       " 'Auto & Vehicles': 0.9250902527075812,\n",
       " 'Beauty': 0.5979241877256317,\n",
       " 'Books & Reference': 2.1435018050541514,\n",
       " 'Business': 4.591606498194946,\n",
       " 'Comics': 0.6092057761732852,\n",
       " 'Comics;Creativity': 0.01128158844765343,\n",
       " 'Communication': 3.2378158844765346,\n",
       " 'Dating': 1.861462093862816,\n",
       " 'Education': 5.347472924187725,\n",
       " 'Education;Creativity': 0.04512635379061372,\n",
       " 'Education;Education': 0.33844765342960287,\n",
       " 'Education;Pretend Play': 0.056407942238267145,\n",
       " 'Education;Brain Games': 0.033844765342960284,\n",
       " 'Entertainment': 6.069494584837545,\n",
       " 'Entertainment;Brain Games': 0.078971119133574,\n",
       " 'Entertainment;Creativity': 0.033844765342960284,\n",
       " 'Entertainment;Music & Video': 0.16922382671480143,\n",
       " 'Events': 0.7107400722021661,\n",
       " 'Finance': 3.7003610108303246,\n",
       " 'Food & Drink': 1.2409747292418771,\n",
       " 'Health & Fitness': 3.0798736462093865,\n",
       " 'House & Home': 0.8235559566787004,\n",
       " 'Libraries & Demo': 0.9363718411552346,\n",
       " 'Lifestyle': 3.892148014440433,\n",
       " 'Lifestyle;Pretend Play': 0.01128158844765343,\n",
       " 'Card': 0.45126353790613716,\n",
       " 'Arcade': 1.8501805054151623,\n",
       " 'Puzzle': 1.128158844765343,\n",
       " 'Racing': 0.9927797833935018,\n",
       " 'Sports': 3.463447653429603,\n",
       " 'Casual': 1.7599277978339352,\n",
       " 'Simulation': 2.0419675090252705,\n",
       " 'Adventure': 0.6768953068592057,\n",
       " 'Trivia': 0.41741877256317694,\n",
       " 'Action': 3.1024368231046933,\n",
       " 'Word': 0.2594765342960289,\n",
       " 'Role Playing': 0.9363718411552346,\n",
       " 'Strategy': 0.9138086642599278,\n",
       " 'Board': 0.3835740072202166,\n",
       " 'Music': 0.2030685920577617,\n",
       " 'Action;Action & Adventure': 0.10153429602888085,\n",
       " 'Casual;Brain Games': 0.13537906137184114,\n",
       " 'Educational;Creativity': 0.033844765342960284,\n",
       " 'Puzzle;Brain Games': 0.16922382671480143,\n",
       " 'Educational;Education': 0.39485559566787,\n",
       " 'Casual;Pretend Play': 0.236913357400722,\n",
       " 'Educational;Brain Games': 0.06768953068592057,\n",
       " 'Art & Design;Pretend Play': 0.01128158844765343,\n",
       " 'Educational;Pretend Play': 0.09025270758122744,\n",
       " 'Entertainment;Education': 0.01128158844765343,\n",
       " 'Casual;Education': 0.02256317689530686,\n",
       " 'Casual;Creativity': 0.06768953068592057,\n",
       " 'Casual;Action & Adventure': 0.13537906137184114,\n",
       " 'Music;Music & Video': 0.02256317689530686,\n",
       " 'Arcade;Pretend Play': 0.01128158844765343,\n",
       " 'Adventure;Action & Adventure': 0.033844765342960284,\n",
       " 'Role Playing;Action & Adventure': 0.033844765342960284,\n",
       " 'Simulation;Pretend Play': 0.02256317689530686,\n",
       " 'Puzzle;Creativity': 0.02256317689530686,\n",
       " 'Simulation;Action & Adventure': 0.078971119133574,\n",
       " 'Racing;Action & Adventure': 0.16922382671480143,\n",
       " 'Sports;Action & Adventure': 0.02256317689530686,\n",
       " 'Educational;Action & Adventure': 0.033844765342960284,\n",
       " 'Arcade;Action & Adventure': 0.12409747292418773,\n",
       " 'Entertainment;Action & Adventure': 0.033844765342960284,\n",
       " 'Art & Design;Action & Adventure': 0.01128158844765343,\n",
       " 'Puzzle;Action & Adventure': 0.033844765342960284,\n",
       " 'Education;Action & Adventure': 0.033844765342960284,\n",
       " 'Strategy;Action & Adventure': 0.01128158844765343,\n",
       " 'Music & Audio;Music & Video': 0.01128158844765343,\n",
       " 'Health & Fitness;Education': 0.01128158844765343,\n",
       " 'Board;Action & Adventure': 0.02256317689530686,\n",
       " 'Board;Brain Games': 0.078971119133574,\n",
       " 'Casual;Music & Video': 0.01128158844765343,\n",
       " 'Education;Music & Video': 0.033844765342960284,\n",
       " 'Role Playing;Pretend Play': 0.04512635379061372,\n",
       " 'Entertainment;Pretend Play': 0.02256317689530686,\n",
       " 'Medical': 3.531137184115524,\n",
       " 'Social': 2.6624548736462095,\n",
       " 'Shopping': 2.2450361010830324,\n",
       " 'Photography': 2.944494584837545,\n",
       " 'Travel & Local': 2.3240072202166067,\n",
       " 'Travel & Local;Action & Adventure': 0.01128158844765343,\n",
       " 'Tools': 8.449909747292418,\n",
       " 'Tools;Education': 0.01128158844765343,\n",
       " 'Personalization': 3.3167870036101084,\n",
       " 'Productivity': 3.892148014440433,\n",
       " 'Parenting': 0.4963898916967509,\n",
       " 'Parenting;Music & Video': 0.06768953068592057,\n",
       " 'Parenting;Education': 0.078971119133574,\n",
       " 'Parenting;Brain Games': 0.01128158844765343,\n",
       " 'Weather': 0.8009927797833934,\n",
       " 'Video Players & Editors': 1.7712093862815883,\n",
       " 'Video Players & Editors;Music & Video': 0.02256317689530686,\n",
       " 'Video Players & Editors;Creativity': 0.01128158844765343,\n",
       " 'News & Magazines': 2.7978339350180503,\n",
       " 'Maps & Navigation': 1.3989169675090252,\n",
       " 'Health & Fitness;Action & Adventure': 0.01128158844765343,\n",
       " 'Educational': 0.3722924187725632,\n",
       " 'Casino': 0.42870036101083037,\n",
       " 'Trivia;Education': 0.01128158844765343,\n",
       " 'Lifestyle;Education': 0.01128158844765343,\n",
       " 'Card;Action & Adventure': 0.01128158844765343,\n",
       " 'Books & Reference;Education': 0.01128158844765343,\n",
       " 'Simulation;Education': 0.01128158844765343,\n",
       " 'Puzzle;Education': 0.01128158844765343,\n",
       " 'Adventure;Education': 0.01128158844765343,\n",
       " 'Role Playing;Brain Games': 0.01128158844765343,\n",
       " 'Strategy;Education': 0.01128158844765343,\n",
       " 'Racing;Pretend Play': 0.01128158844765343,\n",
       " 'Communication;Creativity': 0.01128158844765343,\n",
       " 'Strategy;Creativity': 0.01128158844765343}"
      ]
     },
     "execution_count": 50,
     "metadata": {},
     "output_type": "execute_result"
    }
   ],
   "source": [
    "android_freq"
   ]
  },
  {
   "cell_type": "code",
   "execution_count": 51,
   "metadata": {},
   "outputs": [
    {
     "name": "stdout",
     "output_type": "stream",
     "text": [
      "Maximum value: Tools\n"
     ]
    }
   ],
   "source": [
    "fin_max = max(android_freq, key=android_freq.get)\n",
    "print(\"Maximum value:\",fin_max)"
   ]
  },
  {
   "cell_type": "code",
   "execution_count": 52,
   "metadata": {},
   "outputs": [],
   "source": [
    "def display_table(dataset, index):\n",
    "    table = frequency_table(dataset, index)\n",
    "    table_display = []\n",
    "    for key in table:\n",
    "        key_val_as_tuple = (table[key], key)\n",
    "        table_display.append(key_val_as_tuple)\n",
    "\n",
    "    table_sorted = sorted(table_display, reverse = True)\n",
    "    for entry in table_sorted:\n",
    "        print(entry[1], ':', entry[0])"
   ]
  },
  {
   "cell_type": "code",
   "execution_count": 53,
   "metadata": {},
   "outputs": [
    {
     "name": "stdout",
     "output_type": "stream",
     "text": [
      "Games : 58.16263190564867\n",
      "Entertainment : 7.883302296710118\n",
      "Photo & Video : 4.9658597144630665\n",
      "Education : 3.662321539416512\n",
      "Social Networking : 3.2898820608317814\n",
      "Shopping : 2.60707635009311\n",
      "Utilities : 2.5139664804469275\n",
      "Sports : 2.1415270018621975\n",
      "Music : 2.0484171322160147\n",
      "Health & Fitness : 2.0173805090006205\n",
      "Productivity : 1.7380509000620732\n",
      "Lifestyle : 1.5828677839851024\n",
      "News : 1.3345747982619491\n",
      "Travel : 1.2414649286157666\n",
      "Finance : 1.1173184357541899\n",
      "Weather : 0.8690254500310366\n",
      "Food & Drink : 0.8069522036002483\n",
      "Reference : 0.5586592178770949\n",
      "Business : 0.5276225946617008\n",
      "Book : 0.4345127250155183\n",
      "Navigation : 0.186219739292365\n",
      "Medical : 0.186219739292365\n",
      "Catalogs : 0.12414649286157665\n"
     ]
    }
   ],
   "source": [
    "display_table(free_ios, 11)"
   ]
  },
  {
   "cell_type": "code",
   "execution_count": 54,
   "metadata": {},
   "outputs": [
    {
     "name": "stdout",
     "output_type": "stream",
     "text": [
      "FAMILY : 18.907942238267147\n",
      "GAME : 9.724729241877256\n",
      "TOOLS : 8.461191335740072\n",
      "BUSINESS : 4.591606498194946\n",
      "LIFESTYLE : 3.9034296028880866\n",
      "PRODUCTIVITY : 3.892148014440433\n",
      "FINANCE : 3.7003610108303246\n",
      "MEDICAL : 3.531137184115524\n",
      "SPORTS : 3.395758122743682\n",
      "PERSONALIZATION : 3.3167870036101084\n",
      "COMMUNICATION : 3.2378158844765346\n",
      "HEALTH_AND_FITNESS : 3.0798736462093865\n",
      "PHOTOGRAPHY : 2.944494584837545\n",
      "NEWS_AND_MAGAZINES : 2.7978339350180503\n",
      "SOCIAL : 2.6624548736462095\n",
      "TRAVEL_AND_LOCAL : 2.33528880866426\n",
      "SHOPPING : 2.2450361010830324\n",
      "BOOKS_AND_REFERENCE : 2.1435018050541514\n",
      "DATING : 1.861462093862816\n",
      "VIDEO_PLAYERS : 1.7937725631768955\n",
      "MAPS_AND_NAVIGATION : 1.3989169675090252\n",
      "FOOD_AND_DRINK : 1.2409747292418771\n",
      "EDUCATION : 1.1620036101083033\n",
      "ENTERTAINMENT : 0.9589350180505415\n",
      "LIBRARIES_AND_DEMO : 0.9363718411552346\n",
      "AUTO_AND_VEHICLES : 0.9250902527075812\n",
      "HOUSE_AND_HOME : 0.8235559566787004\n",
      "WEATHER : 0.8009927797833934\n",
      "EVENTS : 0.7107400722021661\n",
      "PARENTING : 0.6543321299638989\n",
      "ART_AND_DESIGN : 0.6430505415162455\n",
      "COMICS : 0.6204873646209386\n",
      "BEAUTY : 0.5979241877256317\n"
     ]
    }
   ],
   "source": [
    "display_table(free_android, 1)"
   ]
  },
  {
   "cell_type": "code",
   "execution_count": 55,
   "metadata": {},
   "outputs": [
    {
     "name": "stdout",
     "output_type": "stream",
     "text": [
      "Tools : 8.449909747292418\n",
      "Entertainment : 6.069494584837545\n",
      "Education : 5.347472924187725\n",
      "Business : 4.591606498194946\n",
      "Productivity : 3.892148014440433\n",
      "Lifestyle : 3.892148014440433\n",
      "Finance : 3.7003610108303246\n",
      "Medical : 3.531137184115524\n",
      "Sports : 3.463447653429603\n",
      "Personalization : 3.3167870036101084\n",
      "Communication : 3.2378158844765346\n",
      "Action : 3.1024368231046933\n",
      "Health & Fitness : 3.0798736462093865\n",
      "Photography : 2.944494584837545\n",
      "News & Magazines : 2.7978339350180503\n",
      "Social : 2.6624548736462095\n",
      "Travel & Local : 2.3240072202166067\n",
      "Shopping : 2.2450361010830324\n",
      "Books & Reference : 2.1435018050541514\n",
      "Simulation : 2.0419675090252705\n",
      "Dating : 1.861462093862816\n",
      "Arcade : 1.8501805054151623\n",
      "Video Players & Editors : 1.7712093862815883\n",
      "Casual : 1.7599277978339352\n",
      "Maps & Navigation : 1.3989169675090252\n",
      "Food & Drink : 1.2409747292418771\n",
      "Puzzle : 1.128158844765343\n",
      "Racing : 0.9927797833935018\n",
      "Role Playing : 0.9363718411552346\n",
      "Libraries & Demo : 0.9363718411552346\n",
      "Auto & Vehicles : 0.9250902527075812\n",
      "Strategy : 0.9138086642599278\n",
      "House & Home : 0.8235559566787004\n",
      "Weather : 0.8009927797833934\n",
      "Events : 0.7107400722021661\n",
      "Adventure : 0.6768953068592057\n",
      "Comics : 0.6092057761732852\n",
      "Beauty : 0.5979241877256317\n",
      "Art & Design : 0.5979241877256317\n",
      "Parenting : 0.4963898916967509\n",
      "Card : 0.45126353790613716\n",
      "Casino : 0.42870036101083037\n",
      "Trivia : 0.41741877256317694\n",
      "Educational;Education : 0.39485559566787\n",
      "Board : 0.3835740072202166\n",
      "Educational : 0.3722924187725632\n",
      "Education;Education : 0.33844765342960287\n",
      "Word : 0.2594765342960289\n",
      "Casual;Pretend Play : 0.236913357400722\n",
      "Music : 0.2030685920577617\n",
      "Racing;Action & Adventure : 0.16922382671480143\n",
      "Puzzle;Brain Games : 0.16922382671480143\n",
      "Entertainment;Music & Video : 0.16922382671480143\n",
      "Casual;Brain Games : 0.13537906137184114\n",
      "Casual;Action & Adventure : 0.13537906137184114\n",
      "Arcade;Action & Adventure : 0.12409747292418773\n",
      "Action;Action & Adventure : 0.10153429602888085\n",
      "Educational;Pretend Play : 0.09025270758122744\n",
      "Simulation;Action & Adventure : 0.078971119133574\n",
      "Parenting;Education : 0.078971119133574\n",
      "Entertainment;Brain Games : 0.078971119133574\n",
      "Board;Brain Games : 0.078971119133574\n",
      "Parenting;Music & Video : 0.06768953068592057\n",
      "Educational;Brain Games : 0.06768953068592057\n",
      "Casual;Creativity : 0.06768953068592057\n",
      "Art & Design;Creativity : 0.06768953068592057\n",
      "Education;Pretend Play : 0.056407942238267145\n",
      "Role Playing;Pretend Play : 0.04512635379061372\n",
      "Education;Creativity : 0.04512635379061372\n",
      "Role Playing;Action & Adventure : 0.033844765342960284\n",
      "Puzzle;Action & Adventure : 0.033844765342960284\n",
      "Entertainment;Creativity : 0.033844765342960284\n",
      "Entertainment;Action & Adventure : 0.033844765342960284\n",
      "Educational;Creativity : 0.033844765342960284\n",
      "Educational;Action & Adventure : 0.033844765342960284\n",
      "Education;Music & Video : 0.033844765342960284\n",
      "Education;Brain Games : 0.033844765342960284\n",
      "Education;Action & Adventure : 0.033844765342960284\n",
      "Adventure;Action & Adventure : 0.033844765342960284\n",
      "Video Players & Editors;Music & Video : 0.02256317689530686\n",
      "Sports;Action & Adventure : 0.02256317689530686\n",
      "Simulation;Pretend Play : 0.02256317689530686\n",
      "Puzzle;Creativity : 0.02256317689530686\n",
      "Music;Music & Video : 0.02256317689530686\n",
      "Entertainment;Pretend Play : 0.02256317689530686\n",
      "Casual;Education : 0.02256317689530686\n",
      "Board;Action & Adventure : 0.02256317689530686\n",
      "Video Players & Editors;Creativity : 0.01128158844765343\n",
      "Trivia;Education : 0.01128158844765343\n",
      "Travel & Local;Action & Adventure : 0.01128158844765343\n",
      "Tools;Education : 0.01128158844765343\n",
      "Strategy;Education : 0.01128158844765343\n",
      "Strategy;Creativity : 0.01128158844765343\n",
      "Strategy;Action & Adventure : 0.01128158844765343\n",
      "Simulation;Education : 0.01128158844765343\n",
      "Role Playing;Brain Games : 0.01128158844765343\n",
      "Racing;Pretend Play : 0.01128158844765343\n",
      "Puzzle;Education : 0.01128158844765343\n",
      "Parenting;Brain Games : 0.01128158844765343\n",
      "Music & Audio;Music & Video : 0.01128158844765343\n",
      "Lifestyle;Pretend Play : 0.01128158844765343\n",
      "Lifestyle;Education : 0.01128158844765343\n",
      "Health & Fitness;Education : 0.01128158844765343\n",
      "Health & Fitness;Action & Adventure : 0.01128158844765343\n",
      "Entertainment;Education : 0.01128158844765343\n",
      "Communication;Creativity : 0.01128158844765343\n",
      "Comics;Creativity : 0.01128158844765343\n",
      "Casual;Music & Video : 0.01128158844765343\n",
      "Card;Action & Adventure : 0.01128158844765343\n",
      "Books & Reference;Education : 0.01128158844765343\n",
      "Art & Design;Pretend Play : 0.01128158844765343\n",
      "Art & Design;Action & Adventure : 0.01128158844765343\n",
      "Arcade;Pretend Play : 0.01128158844765343\n",
      "Adventure;Education : 0.01128158844765343\n"
     ]
    }
   ],
   "source": [
    "display_table(free_android, 9)"
   ]
  },
  {
   "cell_type": "markdown",
   "metadata": {},
   "source": [
    "To determine most popular genres, let's begin by calculating average number of user ratings (on the App Store)"
   ]
  },
  {
   "cell_type": "code",
   "execution_count": 67,
   "metadata": {},
   "outputs": [],
   "source": [
    "freq_prime_genre = frequency_table(free_ios, 11)"
   ]
  },
  {
   "cell_type": "code",
   "execution_count": 68,
   "metadata": {},
   "outputs": [
    {
     "data": {
      "text/plain": [
       "{'Social Networking': 3.2898820608317814,\n",
       " 'Photo & Video': 4.9658597144630665,\n",
       " 'Games': 58.16263190564867,\n",
       " 'Music': 2.0484171322160147,\n",
       " 'Reference': 0.5586592178770949,\n",
       " 'Health & Fitness': 2.0173805090006205,\n",
       " 'Weather': 0.8690254500310366,\n",
       " 'Utilities': 2.5139664804469275,\n",
       " 'Travel': 1.2414649286157666,\n",
       " 'Shopping': 2.60707635009311,\n",
       " 'News': 1.3345747982619491,\n",
       " 'Navigation': 0.186219739292365,\n",
       " 'Lifestyle': 1.5828677839851024,\n",
       " 'Entertainment': 7.883302296710118,\n",
       " 'Food & Drink': 0.8069522036002483,\n",
       " 'Sports': 2.1415270018621975,\n",
       " 'Book': 0.4345127250155183,\n",
       " 'Finance': 1.1173184357541899,\n",
       " 'Education': 3.662321539416512,\n",
       " 'Productivity': 1.7380509000620732,\n",
       " 'Business': 0.5276225946617008,\n",
       " 'Catalogs': 0.12414649286157665,\n",
       " 'Medical': 0.186219739292365}"
      ]
     },
     "execution_count": 68,
     "metadata": {},
     "output_type": "execute_result"
    }
   ],
   "source": [
    "freq_prime_genre"
   ]
  },
  {
   "cell_type": "code",
   "execution_count": 71,
   "metadata": {},
   "outputs": [
    {
     "data": {
      "text/plain": [
       "['359917414',\n",
       " 'Solitaire',\n",
       " '101943296',\n",
       " 'USD',\n",
       " '0.0',\n",
       " '679055',\n",
       " '9673',\n",
       " '4.5',\n",
       " '4.5',\n",
       " '4.11.2',\n",
       " '4+',\n",
       " 'Games',\n",
       " '38',\n",
       " '4',\n",
       " '11',\n",
       " '1']"
      ]
     },
     "execution_count": 71,
     "metadata": {},
     "output_type": "execute_result"
    }
   ],
   "source": [
    "free_ios[11]"
   ]
  },
  {
   "cell_type": "code",
   "execution_count": 77,
   "metadata": {},
   "outputs": [
    {
     "data": {
      "text/plain": [
       "['id',\n",
       " 'track_name',\n",
       " 'size_bytes',\n",
       " 'currency',\n",
       " 'price',\n",
       " 'rating_count_tot',\n",
       " 'rating_count_ver',\n",
       " 'user_rating',\n",
       " 'user_rating_ver',\n",
       " 'ver',\n",
       " 'cont_rating',\n",
       " 'prime_genre',\n",
       " 'sup_devices.num',\n",
       " 'ipadSc_urls.num',\n",
       " 'lang.num',\n",
       " 'vpp_lic']"
      ]
     },
     "execution_count": 77,
     "metadata": {},
     "output_type": "execute_result"
    }
   ],
   "source": [
    "apple_header"
   ]
  },
  {
   "cell_type": "code",
   "execution_count": 78,
   "metadata": {},
   "outputs": [
    {
     "data": {
      "text/plain": [
       "['284882215',\n",
       " 'Facebook',\n",
       " '389879808',\n",
       " 'USD',\n",
       " '0.0',\n",
       " '2974676',\n",
       " '212',\n",
       " '3.5',\n",
       " '3.5',\n",
       " '95.0',\n",
       " '4+',\n",
       " 'Social Networking',\n",
       " '37',\n",
       " '1',\n",
       " '29',\n",
       " '1']"
      ]
     },
     "execution_count": 78,
     "metadata": {},
     "output_type": "execute_result"
    }
   ],
   "source": [
    "free_ios[0]"
   ]
  },
  {
   "cell_type": "code",
   "execution_count": 86,
   "metadata": {},
   "outputs": [
    {
     "name": "stdout",
     "output_type": "stream",
     "text": [
      "Social Networking : 71548.34905660378\n",
      "Photo & Video : 28441.54375\n",
      "Games : 22788.6696905016\n",
      "Music : 57326.530303030304\n",
      "Reference : 74942.11111111111\n",
      "Health & Fitness : 23298.015384615384\n",
      "Weather : 52279.892857142855\n",
      "Utilities : 18684.456790123455\n",
      "Travel : 28243.8\n",
      "Shopping : 26919.690476190477\n",
      "News : 21248.023255813954\n",
      "Navigation : 86090.33333333333\n",
      "Lifestyle : 16485.764705882353\n",
      "Entertainment : 14029.830708661417\n",
      "Food & Drink : 33333.92307692308\n",
      "Sports : 23008.898550724636\n",
      "Book : 39758.5\n",
      "Finance : 31467.944444444445\n",
      "Education : 7003.983050847458\n",
      "Productivity : 21028.410714285714\n",
      "Business : 7491.117647058823\n",
      "Catalogs : 4004.0\n",
      "Medical : 612.0\n"
     ]
    }
   ],
   "source": [
    "freq_prime_genre = frequency_table(free_ios, 11)\n",
    "for genre in freq_prime_genre:\n",
    "    total = 0 # sum of the number of ratings (not sum of ratings)\n",
    "    len_genre = 0 # store num of apps wrt each genre\n",
    "\n",
    "    for row in free_ios:\n",
    "        genre_app = row[11]\n",
    "\n",
    "        if genre_app == genre:\n",
    "            num_ratings = float(row[5])\n",
    "            total += num_ratings\n",
    "            len_genre += 1\n",
    "            \n",
    "    avg_user_ratings = total / len_genre\n",
    "    print(f\"{genre} : {avg_user_ratings}\")"
   ]
  },
  {
   "cell_type": "markdown",
   "metadata": {},
   "source": [
    "Let's compute number of installs per app genre for Google Play"
   ]
  },
  {
   "cell_type": "code",
   "execution_count": 87,
   "metadata": {},
   "outputs": [
    {
     "data": {
      "text/plain": [
       "['App',\n",
       " 'Category',\n",
       " 'Rating',\n",
       " 'Reviews',\n",
       " 'Size',\n",
       " 'Installs',\n",
       " 'Type',\n",
       " 'Price',\n",
       " 'Content Rating',\n",
       " 'Genres',\n",
       " 'Last Updated',\n",
       " 'Current Ver',\n",
       " 'Android Ver']"
      ]
     },
     "execution_count": 87,
     "metadata": {},
     "output_type": "execute_result"
    }
   ],
   "source": [
    "google_header"
   ]
  },
  {
   "cell_type": "code",
   "execution_count": 93,
   "metadata": {
    "scrolled": true
   },
   "outputs": [
    {
     "name": "stdout",
     "output_type": "stream",
     "text": [
      "ART_AND_DESIGN : 1986335.0877192982\n",
      "AUTO_AND_VEHICLES : 647317.8170731707\n",
      "BEAUTY : 513151.88679245283\n",
      "BOOKS_AND_REFERENCE : 8767811.894736841\n",
      "BUSINESS : 1712290.1474201474\n",
      "COMICS : 817657.2727272727\n",
      "COMMUNICATION : 38456119.167247385\n",
      "DATING : 854028.8303030303\n",
      "EDUCATION : 1833495.145631068\n",
      "ENTERTAINMENT : 11640705.88235294\n",
      "EVENTS : 253542.22222222222\n",
      "FINANCE : 1387692.475609756\n",
      "FOOD_AND_DRINK : 1924897.7363636363\n",
      "HEALTH_AND_FITNESS : 4188821.9853479853\n",
      "HOUSE_AND_HOME : 1331540.5616438356\n",
      "LIBRARIES_AND_DEMO : 638503.734939759\n",
      "LIFESTYLE : 1437816.2687861272\n",
      "GAME : 15588015.603248259\n",
      "FAMILY : 3695641.8198090694\n",
      "MEDICAL : 120550.61980830671\n",
      "SOCIAL : 23253652.127118643\n",
      "SHOPPING : 7036877.311557789\n",
      "PHOTOGRAPHY : 17840110.40229885\n",
      "SPORTS : 3638640.1428571427\n",
      "TRAVEL_AND_LOCAL : 13984077.710144928\n",
      "TOOLS : 10801391.298666667\n",
      "PERSONALIZATION : 5201482.6122448975\n",
      "PRODUCTIVITY : 16787331.344927534\n",
      "PARENTING : 542603.6206896552\n",
      "WEATHER : 5074486.197183099\n",
      "VIDEO_PLAYERS : 24727872.452830188\n",
      "NEWS_AND_MAGAZINES : 9549178.467741935\n",
      "MAPS_AND_NAVIGATION : 4056941.7741935486\n"
     ]
    }
   ],
   "source": [
    "cat_freq = frequency_table(free_android, 1)\n",
    "for category in cat_freq:\n",
    "    total = 0\n",
    "    len_category = 0\n",
    "    \n",
    "    for row in free_android:\n",
    "        category_app = row[1]\n",
    "        \n",
    "        if category_app == category:\n",
    "            num_installs = row[5]\n",
    "            num_installs = num_installs.replace(\"+\", \"\")\n",
    "            num_installs = num_installs.replace(\",\", \"\")\n",
    "            num_installs = float(num_installs)\n",
    "            total += num_installs\n",
    "            len_category += 1\n",
    "    avg_nun_installs = total / len_category \n",
    "    print(f\"{category} : {avg_nun_installs}\")"
   ]
  },
  {
   "cell_type": "code",
   "execution_count": null,
   "metadata": {},
   "outputs": [],
   "source": []
  }
 ],
 "metadata": {
  "kernelspec": {
   "display_name": "Python 3",
   "language": "python",
   "name": "python3"
  },
  "language_info": {
   "codemirror_mode": {
    "name": "ipython",
    "version": 3
   },
   "file_extension": ".py",
   "mimetype": "text/x-python",
   "name": "python",
   "nbconvert_exporter": "python",
   "pygments_lexer": "ipython3",
   "version": "3.8.2"
  }
 },
 "nbformat": 4,
 "nbformat_minor": 2
}
