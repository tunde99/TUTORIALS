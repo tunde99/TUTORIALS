{
 "cells": [
  {
   "cell_type": "markdown",
   "metadata": {},
   "source": [
    "# Mobile Apps Analysis\n",
    "\n",
    "Guided Project: Profitable App Profiles for the App Store and Google Play Markets\n",
    "\n",
    "The goal of the project is to analyse data to determine which apps users would prefer to use.\n",
    "\n",
    "Mobile apps are: \n",
    "* available for English users\n",
    "* free to download and install. \n",
    "\n",
    "\n",
    "[Apple apps store dataset](https://www.kaggle.com/datasets/ramamet4/app-store-apple-data-set-10k-apps)\n",
    "\n",
    "[Google play store apps dataset](https://www.kaggle.com/datasets/lava18/google-play-store-apps)"
   ]
  },
  {
   "cell_type": "code",
   "execution_count": 20,
   "metadata": {},
   "outputs": [],
   "source": [
    "from csv import reader\n",
    "\n",
    "apple_file = open(\"AppleStore.csv\", encoding=\"utf8\")\n",
    "read_apple_file = list(reader(apple_file))\n",
    "\n",
    "google_file = open(\"googleplaystore.csv\", encoding=\"utf8\")\n",
    "read_google_file = list(reader(google_file))"
   ]
  },
  {
   "cell_type": "code",
   "execution_count": 3,
   "metadata": {},
   "outputs": [],
   "source": [
    "\"\"\"\n",
    "A function to explore dataset\n",
    "\n",
    "Parameters\n",
    "    dataset : list\n",
    "        The data to be read\n",
    "    start : int\n",
    "        Index of the first row\n",
    "    end : int\n",
    "        Index of the last row\n",
    "\n",
    "Returns\n",
    "    Nothing\n",
    "\"\"\"\n",
    "def explore_data(dataset, start, end, rows_and_columns=False):\n",
    "    dataset_slice = dataset[start:end]    \n",
    "    for row in dataset_slice:\n",
    "        print(row)\n",
    "        print('\\n') # adds a new (empty) line after each row\n",
    "\n",
    "    if rows_and_columns:\n",
    "        print('Number of rows:', len(dataset))\n",
    "        print('Number of columns:', len(dataset[0]))"
   ]
  },
  {
   "cell_type": "code",
   "execution_count": 29,
   "metadata": {},
   "outputs": [],
   "source": [
    "#explore_data(read_apple_file, 1, len(read_apple_file))"
   ]
  },
  {
   "cell_type": "code",
   "execution_count": 30,
   "metadata": {},
   "outputs": [],
   "source": [
    "#explore_data(read_apple_file, 1, len(read_apple_file))"
   ]
  },
  {
   "cell_type": "code",
   "execution_count": 28,
   "metadata": {},
   "outputs": [
    {
     "name": "stdout",
     "output_type": "stream",
     "text": [
      "7198\n",
      "10842\n"
     ]
    }
   ],
   "source": [
    "# Data with header\n",
    "print(len(read_apple_file))\n",
    "print(len(read_google_file))"
   ]
  },
  {
   "cell_type": "code",
   "execution_count": 22,
   "metadata": {},
   "outputs": [],
   "source": [
    "# Remove header\n",
    "apple_data = read_apple_file[1:]\n",
    "google_data = read_google_file[1:]"
   ]
  },
  {
   "cell_type": "code",
   "execution_count": 25,
   "metadata": {},
   "outputs": [
    {
     "name": "stdout",
     "output_type": "stream",
     "text": [
      "Length of apple data: 7197\n",
      "Length of google data: 10841\n"
     ]
    }
   ],
   "source": [
    "print(f\"Length of apple data: {len(apple_data)}\")\n",
    "print(f\"Length of google data: {len(google_data)}\")"
   ]
  },
  {
   "cell_type": "code",
   "execution_count": null,
   "metadata": {},
   "outputs": [],
   "source": []
  }
 ],
 "metadata": {
  "kernelspec": {
   "display_name": "Python 3",
   "language": "python",
   "name": "python3"
  },
  "language_info": {
   "codemirror_mode": {
    "name": "ipython",
    "version": 3
   },
   "file_extension": ".py",
   "mimetype": "text/x-python",
   "name": "python",
   "nbconvert_exporter": "python",
   "pygments_lexer": "ipython3",
   "version": "3.8.2"
  }
 },
 "nbformat": 4,
 "nbformat_minor": 2
}
