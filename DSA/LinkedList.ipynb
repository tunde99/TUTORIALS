{
  "nbformat": 4,
  "nbformat_minor": 0,
  "metadata": {
    "colab": {
      "name": "LinkedList.ipynb",
      "provenance": [],
      "collapsed_sections": [],
      "authorship_tag": "ABX9TyOIsvqGnXmSMbdJdI/ix4yk",
      "include_colab_link": true
    },
    "kernelspec": {
      "name": "python3",
      "display_name": "Python 3"
    },
    "language_info": {
      "name": "python"
    },
    "accelerator": "GPU"
  },
  "cells": [
    {
      "cell_type": "markdown",
      "metadata": {
        "id": "view-in-github",
        "colab_type": "text"
      },
      "source": [
        "<a href=\"https://colab.research.google.com/github/tunde99/TUTORIALS/blob/main/LinkedList.ipynb\" target=\"_parent\"><img src=\"https://colab.research.google.com/assets/colab-badge.svg\" alt=\"Open In Colab\"/></a>"
      ]
    },
    {
      "cell_type": "markdown",
      "metadata": {
        "id": "5oDqjsataMv_"
      },
      "source": [
        "#Single linked list"
      ]
    },
    {
      "cell_type": "code",
      "metadata": {
        "colab": {
          "base_uri": "https://localhost:8080/"
        },
        "id": "aK7tHK5LWCkq",
        "outputId": "bf711c34-b13e-4c48-8976-ef6437cb297e"
      },
      "source": [
        "class Node:\n",
        "    def __init__(self, data, next=None):\n",
        "        self.data = data\n",
        "        self.next = next\n",
        "    \n",
        "   \n",
        "    def count_num_nodes(root):\n",
        "        # Assume a root node exists\n",
        "        count = 1\n",
        "        current = root  # Make root the current node\n",
        "        while current.next is not None: # Assume another node exists after the root node\n",
        "            current = current.next  # Make the next node the current node\n",
        "            count += 1  # Increase the count\n",
        "        return count\n",
        "\n",
        "# Define nodes\n",
        "nodeA = Node(10)\n",
        "nodeB = Node(9)\n",
        "nodeC = Node(8)\n",
        "nodeD = Node(7)\n",
        "nodeE = Node(5)\n",
        "nodeF = Node(4)\n",
        "nodeG = Node(3)\n",
        "\n",
        "# Define next nodes\n",
        "nodeA.next = nodeB\n",
        "nodeB.next = nodeC\n",
        "nodeC.next = nodeD\n",
        "nodeD.next = nodeE\n",
        "nodeE.next = nodeF\n",
        "nodeF.next = nodeG\n",
        "\n",
        "print(f'The length of the list is {Node.count_num_nodes(nodeA)}')"
      ],
      "execution_count": null,
      "outputs": [
        {
          "output_type": "stream",
          "text": [
            "The length of the list is 7\n"
          ],
          "name": "stdout"
        }
      ]
    },
    {
      "cell_type": "code",
      "metadata": {
        "id": "V3C5xn3YWMUK"
      },
      "source": [
        ""
      ],
      "execution_count": null,
      "outputs": []
    }
  ]
}