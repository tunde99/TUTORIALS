{
  "nbformat": 4,
  "nbformat_minor": 0,
  "metadata": {
    "colab": {
      "name": "kwargs.ipynb",
      "provenance": []
    },
    "kernelspec": {
      "name": "python3",
      "display_name": "Python 3"
    },
    "language_info": {
      "name": "python"
    }
  },
  "cells": [
    {
      "cell_type": "code",
      "metadata": {
        "colab": {
          "base_uri": "https://localhost:8080/"
        },
        "id": "trx8AdaBLPOI",
        "outputId": "4bb474cc-c2fb-402d-87fa-3dd58415ed94"
      },
      "source": [
        "def keyword_args(**kwargs):\n",
        "    \"\"\"Transform arguments to a dictionary and display the contents.\n",
        "    \n",
        "    Args:\n",
        "        kwargs: special keyword argument\n",
        "\n",
        "    Returns:\n",
        "        Content of the dictionary   \n",
        "    \"\"\"\n",
        "    for key, value in kwargs.items():\n",
        "        print(f'Hi there! I am {key} and I am from {value}')\n",
        "keyword_args(Tunde = 'Nigeria', Krishnendu = 'India', Niva = 'Israel')"
      ],
      "execution_count": 13,
      "outputs": [
        {
          "output_type": "stream",
          "text": [
            "Hi there! I am Tunde and I am from Nigeria\n",
            "Hi there! I am Krishnendu and I am from India\n",
            "Hi there! I am Niva and I am from Israel\n"
          ],
          "name": "stdout"
        }
      ]
    }
  ]
}