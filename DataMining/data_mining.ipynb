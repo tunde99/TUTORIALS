{
  "nbformat": 4,
  "nbformat_minor": 0,
  "metadata": {
    "colab": {
      "name": "data_mining.ipynb",
      "provenance": [],
      "authorship_tag": "ABX9TyPX4MgAyHmF9tGsNyTxRrnF",
      "include_colab_link": true
    },
    "kernelspec": {
      "name": "python3",
      "display_name": "Python 3"
    },
    "language_info": {
      "name": "python"
    },
    "accelerator": "GPU"
  },
  "cells": [
    {
      "cell_type": "markdown",
      "metadata": {
        "id": "view-in-github",
        "colab_type": "text"
      },
      "source": [
        "<a href=\"https://colab.research.google.com/github/tunde99/TUTORIALS/blob/main/data_mining.ipynb\" target=\"_parent\"><img src=\"https://colab.research.google.com/assets/colab-badge.svg\" alt=\"Open In Colab\"/></a>"
      ]
    },
    {
      "cell_type": "code",
      "metadata": {
        "id": "_VLPEySqZF6O"
      },
      "source": [
        "import requests\n",
        "from bs4 import BeautifulSoup\n",
        "from collections import defaultdict\n",
        "\n",
        "# # Making url request\n",
        "# def get_url_content(url):\n",
        "#     response = requests.get(url)\n",
        "    \n",
        "\n",
        " \n",
        "tags = defaultdict(int)\n",
        "base = 'http://www.quotes.toscrape.com/'\n",
        "frontier = ['page/1', 'page/2', 'page/3', 'page/4', 'page/5', 'page/6', 'page/7', 'page/8', 'page/9', 'page/10']\n",
        "\n",
        "for page in frontier:\n",
        "    response = requests.get(base+page)\n",
        "    soup = BeautifulSoup(response.content, 'html.parser')\n",
        "    for link in soup.find_all('a', {'class':'tag'}):\n",
        "        tags[link.text] += 1\n",
        "\n",
        "for k, v in sorted(tags.items(), key=lambda item: item[1], reverse=True):\n",
        "    print(k, ':', v)\n",
        " "
      ],
      "execution_count": 61,
      "outputs": []
    },
    {
      "cell_type": "code",
      "metadata": {
        "id": "LN2Pv3u9ZMBp"
      },
      "source": [
        ""
      ],
      "execution_count": 56,
      "outputs": []
    },
    {
      "cell_type": "code",
      "metadata": {
        "id": "iYT6KVT9Zzx1"
      },
      "source": [
        ""
      ],
      "execution_count": null,
      "outputs": []
    }
  ]
}