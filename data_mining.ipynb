{
  "nbformat": 4,
  "nbformat_minor": 0,
  "metadata": {
    "colab": {
      "name": "data_mining.ipynb",
      "provenance": [],
      "authorship_tag": "ABX9TyNmCfpAumpsRXPVZLWyw0L4"
    },
    "kernelspec": {
      "name": "python3",
      "display_name": "Python 3"
    },
    "language_info": {
      "name": "python"
    },
    "accelerator": "GPU"
  },
  "cells": [
    {
      "cell_type": "code",
      "metadata": {
        "id": "_VLPEySqZF6O"
      },
      "source": [
        "import requests\n",
        "from bs4 import BeautifulSoup\n",
        "from collections import defaultdict\n",
        "\n",
        "# # Making url request\n",
        "# def get_url_content(url):\n",
        "#     response = requests.get(url)\n",
        "    \n",
        "\n",
        " \n",
        "tags = defaultdict(int)\n",
        "base = 'http://www.quotes.toscrape.com/'\n",
        "frontier = ['page/1', 'page/2', 'page/3', 'page/4', 'page/5', 'page/6', 'page/7', 'page/8', 'page/9', 'page/10']\n",
        "\n",
        "for page in frontier:\n",
        "    response = requests.get(base+page)\n",
        "    soup = BeautifulSoup(response.content, 'html.parser')\n",
        "    for link in soup.find_all('a', {'class':'tag'}):\n",
        "        tags[link.text] += 1\n",
        "\n",
        "for k, v in sorted(tags.items(), key=lambda item: item[1], reverse=True):\n",
        "    print(k, ':', v)\n",
        " "
      ],
      "execution_count": null,
      "outputs": []
    },
    {
      "cell_type": "code",
      "metadata": {
        "id": "LN2Pv3u9ZMBp"
      },
      "source": [
        ""
      ],
      "execution_count": null,
      "outputs": []
    },
    {
      "cell_type": "code",
      "metadata": {
        "id": "iYT6KVT9Zzx1",
        "colab": {
          "base_uri": "https://localhost:8080/"
        },
        "outputId": "5b56b833-216b-4533-f3e6-80f9c2936623"
      },
      "source": [
        "from urllib.parse import urlparse\n",
        "url = 'http://quotes.toscrape.com/author/Albert-Einstein/'\n",
        "parsed = urlparse(url)\n",
        "print(parsed)"
      ],
      "execution_count": null,
      "outputs": [
        {
          "output_type": "stream",
          "text": [
            "ParseResult(scheme='http', netloc='quotes.toscrape.com', path='/author/Albert-Einstein/', params='', query='', fragment='')\n"
          ],
          "name": "stdout"
        }
      ]
    },
    {
      "cell_type": "code",
      "metadata": {
        "colab": {
          "base_uri": "https://localhost:8080/",
          "height": 35
        },
        "id": "Js0SoNr8aGE1",
        "outputId": "426ce007-c029-42e9-b87d-c43ce3f00b1f"
      },
      "source": [
        "parsed.path"
      ],
      "execution_count": null,
      "outputs": [
        {
          "output_type": "execute_result",
          "data": {
            "application/vnd.google.colaboratory.intrinsic+json": {
              "type": "string"
            },
            "text/plain": [
              "'/author/Albert-Einstein/'"
            ]
          },
          "metadata": {
            "tags": []
          },
          "execution_count": 4
        }
      ]
    },
    {
      "cell_type": "code",
      "metadata": {
        "id": "dGP8lungaOyl"
      },
      "source": [
        ""
      ],
      "execution_count": null,
      "outputs": []
    }
  ]
}