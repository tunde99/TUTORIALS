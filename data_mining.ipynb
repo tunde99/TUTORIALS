{
  "nbformat": 4,
  "nbformat_minor": 0,
  "metadata": {
    "colab": {
      "name": "data_mining.ipynb",
      "provenance": [],
      "authorship_tag": "ABX9TyPY+WFv22hITCYuDEVj8CwD"
    },
    "kernelspec": {
      "name": "python3",
      "display_name": "Python 3"
    },
    "language_info": {
      "name": "python"
    }
  },
  "cells": [
    {
      "cell_type": "markdown",
      "metadata": {
        "id": "EDVSDlkZqSNL"
      },
      "source": [
        "# Data Mining\n",
        "\n",
        "* Data mining involves extracting information from a dataset and transforming it into a structure that makes it useable in the future.\n",
        "* Web scraping is getting information from a webpage.\n",
        "* Web crawling is getting information from multiple webpages (website).\n",
        "* Web Crawlers are also referred to as *Spiders*."
      ]
    },
    {
      "cell_type": "markdown",
      "metadata": {
        "id": "1QtNvw4uq1Ko"
      },
      "source": [
        "## Urllib\n",
        "\n",
        "* A Python library that helps to parse url.\n",
        "* Parsing basically involves separating an item into meaningful components.\n",
        "\n",
        "Let's take a look at how to parse url using urllib in the next cell."
      ]
    },
    {
      "cell_type": "code",
      "metadata": {
        "id": "iYT6KVT9Zzx1",
        "colab": {
          "base_uri": "https://localhost:8080/"
        },
        "outputId": "3fc39cf7-3b3a-4aa7-a2a3-39e7afac0f38"
      },
      "source": [
        "## Import dependency\n",
        "from urllib.parse import urlparse\n",
        "\n",
        "url = 'http://quotes.toscrape.com/author/Albert-Einstein/'\n",
        "parsed = urlparse(url)\n",
        "\n",
        "print(parsed)"
      ],
      "execution_count": 2,
      "outputs": [
        {
          "output_type": "stream",
          "text": [
            "ParseResult(scheme='http', netloc='quotes.toscrape.com', path='/author/Albert-Einstein/', params='', query='', fragment='')\n"
          ],
          "name": "stdout"
        }
      ]
    },
    {
      "cell_type": "code",
      "metadata": {
        "colab": {
          "base_uri": "https://localhost:8080/"
        },
        "id": "Js0SoNr8aGE1",
        "outputId": "ad4e20bb-c725-4f36-bf04-4616f1130c33"
      },
      "source": [
        "# View some individual attributes from the parsed components \n",
        "print('Path: ', parsed.path)\n",
        "print('netloc - also known as domain: ', parsed.netloc)"
      ],
      "execution_count": 5,
      "outputs": [
        {
          "output_type": "stream",
          "text": [
            "Path:  /author/Albert-Einstein/\n",
            "netloc - also known as domain:  quotes.toscrape.com\n"
          ],
          "name": "stdout"
        }
      ]
    },
    {
      "cell_type": "code",
      "metadata": {
        "id": "_VLPEySqZF6O"
      },
      "source": [
        "import requests\n",
        "from bs4 import BeautifulSoup\n",
        "from collections import defaultdict\n",
        "\n",
        "# # Making url request\n",
        "# def get_url_content(url):\n",
        "#     response = requests.get(url)\n",
        "    \n",
        "\n",
        " \n",
        "tags = defaultdict(int)\n",
        "base = 'http://www.quotes.toscrape.com/'\n",
        "frontier = ['page/1', 'page/2', 'page/3', 'page/4', 'page/5', 'page/6', 'page/7', 'page/8', 'page/9', 'page/10']\n",
        "\n",
        "for page in frontier:\n",
        "    response = requests.get(base+page)\n",
        "    soup = BeautifulSoup(response.content, 'html.parser')\n",
        "    for link in soup.find_all('a', {'class':'tag'}):\n",
        "        tags[link.text] += 1\n",
        "\n",
        "for k, v in sorted(tags.items(), key=lambda item: item[1], reverse=True):\n",
        "    print(k, ':', v)\n",
        " "
      ],
      "execution_count": null,
      "outputs": []
    },
    {
      "cell_type": "code",
      "metadata": {
        "id": "LN2Pv3u9ZMBp"
      },
      "source": [
        ""
      ],
      "execution_count": null,
      "outputs": []
    },
    {
      "cell_type": "code",
      "metadata": {
        "id": "dGP8lungaOyl"
      },
      "source": [
        ""
      ],
      "execution_count": null,
      "outputs": []
    }
  ]
}