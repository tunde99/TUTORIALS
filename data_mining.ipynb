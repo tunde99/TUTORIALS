{
  "nbformat": 4,
  "nbformat_minor": 0,
  "metadata": {
    "colab": {
      "name": "data_mining.ipynb",
      "provenance": [],
      "authorship_tag": "ABX9TyPlWGooaQxjqNMAADHUlsPd",
      "include_colab_link": true
    },
    "kernelspec": {
      "name": "python3",
      "display_name": "Python 3"
    },
    "language_info": {
      "name": "python"
    },
    "accelerator": "GPU"
  },
  "cells": [
    {
      "cell_type": "markdown",
      "metadata": {
        "id": "view-in-github",
        "colab_type": "text"
      },
      "source": [
        "<a href=\"https://colab.research.google.com/github/tunde99/TUTORIALS/blob/main/data_mining.ipynb\" target=\"_parent\"><img src=\"https://colab.research.google.com/assets/colab-badge.svg\" alt=\"Open In Colab\"/></a>"
      ]
    },
    {
      "cell_type": "code",
      "metadata": {
        "id": "_VLPEySqZF6O"
      },
      "source": [
        "import requests\n",
        "\n",
        "# Making url request\n",
        "def get_url_content(url):\n",
        "    response = requests.get(url)\n",
        "    return response"
      ],
      "execution_count": 2,
      "outputs": []
    },
    {
      "cell_type": "code",
      "metadata": {
        "colab": {
          "base_uri": "https://localhost:8080/"
        },
        "id": "LN2Pv3u9ZMBp",
        "outputId": "cdc9623f-a0b9-476f-d28f-0000ff39e609"
      },
      "source": [
        "response = get_url_content('https://www.tundeajayi.github.io')\n",
        "response"
      ],
      "execution_count": 13,
      "outputs": [
        {
          "output_type": "execute_result",
          "data": {
            "text/plain": [
              "<Response [200]>"
            ]
          },
          "metadata": {
            "tags": []
          },
          "execution_count": 13
        }
      ]
    },
    {
      "cell_type": "code",
      "metadata": {
        "id": "K7rNaArlZvGB"
      },
      "source": [
        "\n"
      ],
      "execution_count": 14,
      "outputs": []
    },
    {
      "cell_type": "code",
      "metadata": {
        "id": "iYT6KVT9Zzx1"
      },
      "source": [
        ""
      ],
      "execution_count": null,
      "outputs": []
    }
  ]
}