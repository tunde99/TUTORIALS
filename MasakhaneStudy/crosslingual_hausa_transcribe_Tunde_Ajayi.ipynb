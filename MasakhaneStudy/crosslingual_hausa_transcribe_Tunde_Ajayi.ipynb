{
  "nbformat": 4,
  "nbformat_minor": 0,
  "metadata": {
    "colab": {
      "name": "crosslingual_hausa_transcribe_Tunde_Ajayi.ipynb",
      "provenance": [],
      "collapsed_sections": []
    },
    "kernelspec": {
      "name": "python3",
      "display_name": "Python 3"
    },
    "language_info": {
      "name": "python"
    },
    "accelerator": "GPU",
    "widgets": {
      "application/vnd.jupyter.widget-state+json": {
        "805eb34727594d1fa74a35901caaf246": {
          "model_module": "@jupyter-widgets/controls",
          "model_name": "HBoxModel",
          "state": {
            "_view_name": "HBoxView",
            "_dom_classes": [],
            "_model_name": "HBoxModel",
            "_view_module": "@jupyter-widgets/controls",
            "_model_module_version": "1.5.0",
            "_view_count": null,
            "_view_module_version": "1.5.0",
            "box_style": "",
            "layout": "IPY_MODEL_3b3724eb807f4950946e6865d3db1955",
            "_model_module": "@jupyter-widgets/controls",
            "children": [
              "IPY_MODEL_1fb167d64cd940429f0937974c6aa198",
              "IPY_MODEL_0158920bf91746008c2798a9ce94c0d2"
            ]
          }
        },
        "3b3724eb807f4950946e6865d3db1955": {
          "model_module": "@jupyter-widgets/base",
          "model_name": "LayoutModel",
          "state": {
            "_view_name": "LayoutView",
            "grid_template_rows": null,
            "right": null,
            "justify_content": null,
            "_view_module": "@jupyter-widgets/base",
            "overflow": null,
            "_model_module_version": "1.2.0",
            "_view_count": null,
            "flex_flow": null,
            "width": null,
            "min_width": null,
            "border": null,
            "align_items": null,
            "bottom": null,
            "_model_module": "@jupyter-widgets/base",
            "top": null,
            "grid_column": null,
            "overflow_y": null,
            "overflow_x": null,
            "grid_auto_flow": null,
            "grid_area": null,
            "grid_template_columns": null,
            "flex": null,
            "_model_name": "LayoutModel",
            "justify_items": null,
            "grid_row": null,
            "max_height": null,
            "align_content": null,
            "visibility": null,
            "align_self": null,
            "height": null,
            "min_height": null,
            "padding": null,
            "grid_auto_rows": null,
            "grid_gap": null,
            "max_width": null,
            "order": null,
            "_view_module_version": "1.2.0",
            "grid_template_areas": null,
            "object_position": null,
            "object_fit": null,
            "grid_auto_columns": null,
            "margin": null,
            "display": null,
            "left": null
          }
        },
        "1fb167d64cd940429f0937974c6aa198": {
          "model_module": "@jupyter-widgets/controls",
          "model_name": "FloatProgressModel",
          "state": {
            "_view_name": "ProgressView",
            "style": "IPY_MODEL_b3491108d7a543c59cbd999acde40dac",
            "_dom_classes": [],
            "description": "Downloading: 100%",
            "_model_name": "FloatProgressModel",
            "bar_style": "success",
            "max": 158,
            "_view_module": "@jupyter-widgets/controls",
            "_model_module_version": "1.5.0",
            "value": 158,
            "_view_count": null,
            "_view_module_version": "1.5.0",
            "orientation": "horizontal",
            "min": 0,
            "description_tooltip": null,
            "_model_module": "@jupyter-widgets/controls",
            "layout": "IPY_MODEL_fa68edf76adb4bdd8d93c873160bc5ff"
          }
        },
        "0158920bf91746008c2798a9ce94c0d2": {
          "model_module": "@jupyter-widgets/controls",
          "model_name": "HTMLModel",
          "state": {
            "_view_name": "HTMLView",
            "style": "IPY_MODEL_d918747ff3f643e58b1348bb4a564f5d",
            "_dom_classes": [],
            "description": "",
            "_model_name": "HTMLModel",
            "placeholder": "​",
            "_view_module": "@jupyter-widgets/controls",
            "_model_module_version": "1.5.0",
            "value": " 158/158 [00:51&lt;00:00, 3.05B/s]",
            "_view_count": null,
            "_view_module_version": "1.5.0",
            "description_tooltip": null,
            "_model_module": "@jupyter-widgets/controls",
            "layout": "IPY_MODEL_af3564831df4425496f9323d3429c94b"
          }
        },
        "b3491108d7a543c59cbd999acde40dac": {
          "model_module": "@jupyter-widgets/controls",
          "model_name": "ProgressStyleModel",
          "state": {
            "_view_name": "StyleView",
            "_model_name": "ProgressStyleModel",
            "description_width": "initial",
            "_view_module": "@jupyter-widgets/base",
            "_model_module_version": "1.5.0",
            "_view_count": null,
            "_view_module_version": "1.2.0",
            "bar_color": null,
            "_model_module": "@jupyter-widgets/controls"
          }
        },
        "fa68edf76adb4bdd8d93c873160bc5ff": {
          "model_module": "@jupyter-widgets/base",
          "model_name": "LayoutModel",
          "state": {
            "_view_name": "LayoutView",
            "grid_template_rows": null,
            "right": null,
            "justify_content": null,
            "_view_module": "@jupyter-widgets/base",
            "overflow": null,
            "_model_module_version": "1.2.0",
            "_view_count": null,
            "flex_flow": null,
            "width": null,
            "min_width": null,
            "border": null,
            "align_items": null,
            "bottom": null,
            "_model_module": "@jupyter-widgets/base",
            "top": null,
            "grid_column": null,
            "overflow_y": null,
            "overflow_x": null,
            "grid_auto_flow": null,
            "grid_area": null,
            "grid_template_columns": null,
            "flex": null,
            "_model_name": "LayoutModel",
            "justify_items": null,
            "grid_row": null,
            "max_height": null,
            "align_content": null,
            "visibility": null,
            "align_self": null,
            "height": null,
            "min_height": null,
            "padding": null,
            "grid_auto_rows": null,
            "grid_gap": null,
            "max_width": null,
            "order": null,
            "_view_module_version": "1.2.0",
            "grid_template_areas": null,
            "object_position": null,
            "object_fit": null,
            "grid_auto_columns": null,
            "margin": null,
            "display": null,
            "left": null
          }
        },
        "d918747ff3f643e58b1348bb4a564f5d": {
          "model_module": "@jupyter-widgets/controls",
          "model_name": "DescriptionStyleModel",
          "state": {
            "_view_name": "StyleView",
            "_model_name": "DescriptionStyleModel",
            "description_width": "",
            "_view_module": "@jupyter-widgets/base",
            "_model_module_version": "1.5.0",
            "_view_count": null,
            "_view_module_version": "1.2.0",
            "_model_module": "@jupyter-widgets/controls"
          }
        },
        "af3564831df4425496f9323d3429c94b": {
          "model_module": "@jupyter-widgets/base",
          "model_name": "LayoutModel",
          "state": {
            "_view_name": "LayoutView",
            "grid_template_rows": null,
            "right": null,
            "justify_content": null,
            "_view_module": "@jupyter-widgets/base",
            "overflow": null,
            "_model_module_version": "1.2.0",
            "_view_count": null,
            "flex_flow": null,
            "width": null,
            "min_width": null,
            "border": null,
            "align_items": null,
            "bottom": null,
            "_model_module": "@jupyter-widgets/base",
            "top": null,
            "grid_column": null,
            "overflow_y": null,
            "overflow_x": null,
            "grid_auto_flow": null,
            "grid_area": null,
            "grid_template_columns": null,
            "flex": null,
            "_model_name": "LayoutModel",
            "justify_items": null,
            "grid_row": null,
            "max_height": null,
            "align_content": null,
            "visibility": null,
            "align_self": null,
            "height": null,
            "min_height": null,
            "padding": null,
            "grid_auto_rows": null,
            "grid_gap": null,
            "max_width": null,
            "order": null,
            "_view_module_version": "1.2.0",
            "grid_template_areas": null,
            "object_position": null,
            "object_fit": null,
            "grid_auto_columns": null,
            "margin": null,
            "display": null,
            "left": null
          }
        },
        "6e1e9a45f04d4079aaed86cfe23926af": {
          "model_module": "@jupyter-widgets/controls",
          "model_name": "HBoxModel",
          "state": {
            "_view_name": "HBoxView",
            "_dom_classes": [],
            "_model_name": "HBoxModel",
            "_view_module": "@jupyter-widgets/controls",
            "_model_module_version": "1.5.0",
            "_view_count": null,
            "_view_module_version": "1.5.0",
            "box_style": "",
            "layout": "IPY_MODEL_012a38a5ca1945d69e803f5baa450679",
            "_model_module": "@jupyter-widgets/controls",
            "children": [
              "IPY_MODEL_ac173218fde94ffbaa7f02ce750bb962",
              "IPY_MODEL_cf10eb7697bd43e7ba4d408655f66e32"
            ]
          }
        },
        "012a38a5ca1945d69e803f5baa450679": {
          "model_module": "@jupyter-widgets/base",
          "model_name": "LayoutModel",
          "state": {
            "_view_name": "LayoutView",
            "grid_template_rows": null,
            "right": null,
            "justify_content": null,
            "_view_module": "@jupyter-widgets/base",
            "overflow": null,
            "_model_module_version": "1.2.0",
            "_view_count": null,
            "flex_flow": null,
            "width": null,
            "min_width": null,
            "border": null,
            "align_items": null,
            "bottom": null,
            "_model_module": "@jupyter-widgets/base",
            "top": null,
            "grid_column": null,
            "overflow_y": null,
            "overflow_x": null,
            "grid_auto_flow": null,
            "grid_area": null,
            "grid_template_columns": null,
            "flex": null,
            "_model_name": "LayoutModel",
            "justify_items": null,
            "grid_row": null,
            "max_height": null,
            "align_content": null,
            "visibility": null,
            "align_self": null,
            "height": null,
            "min_height": null,
            "padding": null,
            "grid_auto_rows": null,
            "grid_gap": null,
            "max_width": null,
            "order": null,
            "_view_module_version": "1.2.0",
            "grid_template_areas": null,
            "object_position": null,
            "object_fit": null,
            "grid_auto_columns": null,
            "margin": null,
            "display": null,
            "left": null
          }
        },
        "ac173218fde94ffbaa7f02ce750bb962": {
          "model_module": "@jupyter-widgets/controls",
          "model_name": "FloatProgressModel",
          "state": {
            "_view_name": "ProgressView",
            "style": "IPY_MODEL_a4979dc1732e475ca75c40b800f5550d",
            "_dom_classes": [],
            "description": "Downloading: 100%",
            "_model_name": "FloatProgressModel",
            "bar_style": "success",
            "max": 259,
            "_view_module": "@jupyter-widgets/controls",
            "_model_module_version": "1.5.0",
            "value": 259,
            "_view_count": null,
            "_view_module_version": "1.5.0",
            "orientation": "horizontal",
            "min": 0,
            "description_tooltip": null,
            "_model_module": "@jupyter-widgets/controls",
            "layout": "IPY_MODEL_4c4c1caf5eaf410293e8afbb9fbeba1e"
          }
        },
        "cf10eb7697bd43e7ba4d408655f66e32": {
          "model_module": "@jupyter-widgets/controls",
          "model_name": "HTMLModel",
          "state": {
            "_view_name": "HTMLView",
            "style": "IPY_MODEL_5246b27a5b244b8fa38969c64cf24594",
            "_dom_classes": [],
            "description": "",
            "_model_name": "HTMLModel",
            "placeholder": "​",
            "_view_module": "@jupyter-widgets/controls",
            "_model_module_version": "1.5.0",
            "value": " 259/259 [00:01&lt;00:00, 232B/s]",
            "_view_count": null,
            "_view_module_version": "1.5.0",
            "description_tooltip": null,
            "_model_module": "@jupyter-widgets/controls",
            "layout": "IPY_MODEL_b93a327e839a40a2847cd1bab6cb8a8a"
          }
        },
        "a4979dc1732e475ca75c40b800f5550d": {
          "model_module": "@jupyter-widgets/controls",
          "model_name": "ProgressStyleModel",
          "state": {
            "_view_name": "StyleView",
            "_model_name": "ProgressStyleModel",
            "description_width": "initial",
            "_view_module": "@jupyter-widgets/base",
            "_model_module_version": "1.5.0",
            "_view_count": null,
            "_view_module_version": "1.2.0",
            "bar_color": null,
            "_model_module": "@jupyter-widgets/controls"
          }
        },
        "4c4c1caf5eaf410293e8afbb9fbeba1e": {
          "model_module": "@jupyter-widgets/base",
          "model_name": "LayoutModel",
          "state": {
            "_view_name": "LayoutView",
            "grid_template_rows": null,
            "right": null,
            "justify_content": null,
            "_view_module": "@jupyter-widgets/base",
            "overflow": null,
            "_model_module_version": "1.2.0",
            "_view_count": null,
            "flex_flow": null,
            "width": null,
            "min_width": null,
            "border": null,
            "align_items": null,
            "bottom": null,
            "_model_module": "@jupyter-widgets/base",
            "top": null,
            "grid_column": null,
            "overflow_y": null,
            "overflow_x": null,
            "grid_auto_flow": null,
            "grid_area": null,
            "grid_template_columns": null,
            "flex": null,
            "_model_name": "LayoutModel",
            "justify_items": null,
            "grid_row": null,
            "max_height": null,
            "align_content": null,
            "visibility": null,
            "align_self": null,
            "height": null,
            "min_height": null,
            "padding": null,
            "grid_auto_rows": null,
            "grid_gap": null,
            "max_width": null,
            "order": null,
            "_view_module_version": "1.2.0",
            "grid_template_areas": null,
            "object_position": null,
            "object_fit": null,
            "grid_auto_columns": null,
            "margin": null,
            "display": null,
            "left": null
          }
        },
        "5246b27a5b244b8fa38969c64cf24594": {
          "model_module": "@jupyter-widgets/controls",
          "model_name": "DescriptionStyleModel",
          "state": {
            "_view_name": "StyleView",
            "_model_name": "DescriptionStyleModel",
            "description_width": "",
            "_view_module": "@jupyter-widgets/base",
            "_model_module_version": "1.5.0",
            "_view_count": null,
            "_view_module_version": "1.2.0",
            "_model_module": "@jupyter-widgets/controls"
          }
        },
        "b93a327e839a40a2847cd1bab6cb8a8a": {
          "model_module": "@jupyter-widgets/base",
          "model_name": "LayoutModel",
          "state": {
            "_view_name": "LayoutView",
            "grid_template_rows": null,
            "right": null,
            "justify_content": null,
            "_view_module": "@jupyter-widgets/base",
            "overflow": null,
            "_model_module_version": "1.2.0",
            "_view_count": null,
            "flex_flow": null,
            "width": null,
            "min_width": null,
            "border": null,
            "align_items": null,
            "bottom": null,
            "_model_module": "@jupyter-widgets/base",
            "top": null,
            "grid_column": null,
            "overflow_y": null,
            "overflow_x": null,
            "grid_auto_flow": null,
            "grid_area": null,
            "grid_template_columns": null,
            "flex": null,
            "_model_name": "LayoutModel",
            "justify_items": null,
            "grid_row": null,
            "max_height": null,
            "align_content": null,
            "visibility": null,
            "align_self": null,
            "height": null,
            "min_height": null,
            "padding": null,
            "grid_auto_rows": null,
            "grid_gap": null,
            "max_width": null,
            "order": null,
            "_view_module_version": "1.2.0",
            "grid_template_areas": null,
            "object_position": null,
            "object_fit": null,
            "grid_auto_columns": null,
            "margin": null,
            "display": null,
            "left": null
          }
        },
        "d8ff6ffce11547d88df8788c426f9de1": {
          "model_module": "@jupyter-widgets/controls",
          "model_name": "HBoxModel",
          "state": {
            "_view_name": "HBoxView",
            "_dom_classes": [],
            "_model_name": "HBoxModel",
            "_view_module": "@jupyter-widgets/controls",
            "_model_module_version": "1.5.0",
            "_view_count": null,
            "_view_module_version": "1.5.0",
            "box_style": "",
            "layout": "IPY_MODEL_8a8ad53a4b98409da03b4d5955e8b0f0",
            "_model_module": "@jupyter-widgets/controls",
            "children": [
              "IPY_MODEL_f26ea757636342489376dc5e2e06e796",
              "IPY_MODEL_e5beb4959aea4912b47692d909fb5664"
            ]
          }
        },
        "8a8ad53a4b98409da03b4d5955e8b0f0": {
          "model_module": "@jupyter-widgets/base",
          "model_name": "LayoutModel",
          "state": {
            "_view_name": "LayoutView",
            "grid_template_rows": null,
            "right": null,
            "justify_content": null,
            "_view_module": "@jupyter-widgets/base",
            "overflow": null,
            "_model_module_version": "1.2.0",
            "_view_count": null,
            "flex_flow": null,
            "width": null,
            "min_width": null,
            "border": null,
            "align_items": null,
            "bottom": null,
            "_model_module": "@jupyter-widgets/base",
            "top": null,
            "grid_column": null,
            "overflow_y": null,
            "overflow_x": null,
            "grid_auto_flow": null,
            "grid_area": null,
            "grid_template_columns": null,
            "flex": null,
            "_model_name": "LayoutModel",
            "justify_items": null,
            "grid_row": null,
            "max_height": null,
            "align_content": null,
            "visibility": null,
            "align_self": null,
            "height": null,
            "min_height": null,
            "padding": null,
            "grid_auto_rows": null,
            "grid_gap": null,
            "max_width": null,
            "order": null,
            "_view_module_version": "1.2.0",
            "grid_template_areas": null,
            "object_position": null,
            "object_fit": null,
            "grid_auto_columns": null,
            "margin": null,
            "display": null,
            "left": null
          }
        },
        "f26ea757636342489376dc5e2e06e796": {
          "model_module": "@jupyter-widgets/controls",
          "model_name": "FloatProgressModel",
          "state": {
            "_view_name": "ProgressView",
            "style": "IPY_MODEL_d94a903d198a42baad2b6e6389a1e06d",
            "_dom_classes": [],
            "description": "Downloading: 100%",
            "_model_name": "FloatProgressModel",
            "bar_style": "success",
            "max": 138,
            "_view_module": "@jupyter-widgets/controls",
            "_model_module_version": "1.5.0",
            "value": 138,
            "_view_count": null,
            "_view_module_version": "1.5.0",
            "orientation": "horizontal",
            "min": 0,
            "description_tooltip": null,
            "_model_module": "@jupyter-widgets/controls",
            "layout": "IPY_MODEL_286da29ede514957bd460751c8b2351e"
          }
        },
        "e5beb4959aea4912b47692d909fb5664": {
          "model_module": "@jupyter-widgets/controls",
          "model_name": "HTMLModel",
          "state": {
            "_view_name": "HTMLView",
            "style": "IPY_MODEL_a527c7a7c68246409a784535ad37b19a",
            "_dom_classes": [],
            "description": "",
            "_model_name": "HTMLModel",
            "placeholder": "​",
            "_view_module": "@jupyter-widgets/controls",
            "_model_module_version": "1.5.0",
            "value": " 138/138 [00:00&lt;00:00, 207B/s]",
            "_view_count": null,
            "_view_module_version": "1.5.0",
            "description_tooltip": null,
            "_model_module": "@jupyter-widgets/controls",
            "layout": "IPY_MODEL_99cca9a76ba648cea39a2cb75fc5889c"
          }
        },
        "d94a903d198a42baad2b6e6389a1e06d": {
          "model_module": "@jupyter-widgets/controls",
          "model_name": "ProgressStyleModel",
          "state": {
            "_view_name": "StyleView",
            "_model_name": "ProgressStyleModel",
            "description_width": "initial",
            "_view_module": "@jupyter-widgets/base",
            "_model_module_version": "1.5.0",
            "_view_count": null,
            "_view_module_version": "1.2.0",
            "bar_color": null,
            "_model_module": "@jupyter-widgets/controls"
          }
        },
        "286da29ede514957bd460751c8b2351e": {
          "model_module": "@jupyter-widgets/base",
          "model_name": "LayoutModel",
          "state": {
            "_view_name": "LayoutView",
            "grid_template_rows": null,
            "right": null,
            "justify_content": null,
            "_view_module": "@jupyter-widgets/base",
            "overflow": null,
            "_model_module_version": "1.2.0",
            "_view_count": null,
            "flex_flow": null,
            "width": null,
            "min_width": null,
            "border": null,
            "align_items": null,
            "bottom": null,
            "_model_module": "@jupyter-widgets/base",
            "top": null,
            "grid_column": null,
            "overflow_y": null,
            "overflow_x": null,
            "grid_auto_flow": null,
            "grid_area": null,
            "grid_template_columns": null,
            "flex": null,
            "_model_name": "LayoutModel",
            "justify_items": null,
            "grid_row": null,
            "max_height": null,
            "align_content": null,
            "visibility": null,
            "align_self": null,
            "height": null,
            "min_height": null,
            "padding": null,
            "grid_auto_rows": null,
            "grid_gap": null,
            "max_width": null,
            "order": null,
            "_view_module_version": "1.2.0",
            "grid_template_areas": null,
            "object_position": null,
            "object_fit": null,
            "grid_auto_columns": null,
            "margin": null,
            "display": null,
            "left": null
          }
        },
        "a527c7a7c68246409a784535ad37b19a": {
          "model_module": "@jupyter-widgets/controls",
          "model_name": "DescriptionStyleModel",
          "state": {
            "_view_name": "StyleView",
            "_model_name": "DescriptionStyleModel",
            "description_width": "",
            "_view_module": "@jupyter-widgets/base",
            "_model_module_version": "1.5.0",
            "_view_count": null,
            "_view_module_version": "1.2.0",
            "_model_module": "@jupyter-widgets/controls"
          }
        },
        "99cca9a76ba648cea39a2cb75fc5889c": {
          "model_module": "@jupyter-widgets/base",
          "model_name": "LayoutModel",
          "state": {
            "_view_name": "LayoutView",
            "grid_template_rows": null,
            "right": null,
            "justify_content": null,
            "_view_module": "@jupyter-widgets/base",
            "overflow": null,
            "_model_module_version": "1.2.0",
            "_view_count": null,
            "flex_flow": null,
            "width": null,
            "min_width": null,
            "border": null,
            "align_items": null,
            "bottom": null,
            "_model_module": "@jupyter-widgets/base",
            "top": null,
            "grid_column": null,
            "overflow_y": null,
            "overflow_x": null,
            "grid_auto_flow": null,
            "grid_area": null,
            "grid_template_columns": null,
            "flex": null,
            "_model_name": "LayoutModel",
            "justify_items": null,
            "grid_row": null,
            "max_height": null,
            "align_content": null,
            "visibility": null,
            "align_self": null,
            "height": null,
            "min_height": null,
            "padding": null,
            "grid_auto_rows": null,
            "grid_gap": null,
            "max_width": null,
            "order": null,
            "_view_module_version": "1.2.0",
            "grid_template_areas": null,
            "object_position": null,
            "object_fit": null,
            "grid_auto_columns": null,
            "margin": null,
            "display": null,
            "left": null
          }
        },
        "92c21b7c9f4946eba75279ad6e166168": {
          "model_module": "@jupyter-widgets/controls",
          "model_name": "HBoxModel",
          "state": {
            "_view_name": "HBoxView",
            "_dom_classes": [],
            "_model_name": "HBoxModel",
            "_view_module": "@jupyter-widgets/controls",
            "_model_module_version": "1.5.0",
            "_view_count": null,
            "_view_module_version": "1.5.0",
            "box_style": "",
            "layout": "IPY_MODEL_8c0dff97acbe43319c89995355adb2ba",
            "_model_module": "@jupyter-widgets/controls",
            "children": [
              "IPY_MODEL_fda3f40e8d5d4d3a86d7bff49bb11842",
              "IPY_MODEL_7b6655f3313c43c9887afb69082d7d2d"
            ]
          }
        },
        "8c0dff97acbe43319c89995355adb2ba": {
          "model_module": "@jupyter-widgets/base",
          "model_name": "LayoutModel",
          "state": {
            "_view_name": "LayoutView",
            "grid_template_rows": null,
            "right": null,
            "justify_content": null,
            "_view_module": "@jupyter-widgets/base",
            "overflow": null,
            "_model_module_version": "1.2.0",
            "_view_count": null,
            "flex_flow": null,
            "width": null,
            "min_width": null,
            "border": null,
            "align_items": null,
            "bottom": null,
            "_model_module": "@jupyter-widgets/base",
            "top": null,
            "grid_column": null,
            "overflow_y": null,
            "overflow_x": null,
            "grid_auto_flow": null,
            "grid_area": null,
            "grid_template_columns": null,
            "flex": null,
            "_model_name": "LayoutModel",
            "justify_items": null,
            "grid_row": null,
            "max_height": null,
            "align_content": null,
            "visibility": null,
            "align_self": null,
            "height": null,
            "min_height": null,
            "padding": null,
            "grid_auto_rows": null,
            "grid_gap": null,
            "max_width": null,
            "order": null,
            "_view_module_version": "1.2.0",
            "grid_template_areas": null,
            "object_position": null,
            "object_fit": null,
            "grid_auto_columns": null,
            "margin": null,
            "display": null,
            "left": null
          }
        },
        "fda3f40e8d5d4d3a86d7bff49bb11842": {
          "model_module": "@jupyter-widgets/controls",
          "model_name": "FloatProgressModel",
          "state": {
            "_view_name": "ProgressView",
            "style": "IPY_MODEL_94ee01fc5644428f8c9a2ac233db9a3f",
            "_dom_classes": [],
            "description": "Downloading: 100%",
            "_model_name": "FloatProgressModel",
            "bar_style": "success",
            "max": 85,
            "_view_module": "@jupyter-widgets/controls",
            "_model_module_version": "1.5.0",
            "value": 85,
            "_view_count": null,
            "_view_module_version": "1.5.0",
            "orientation": "horizontal",
            "min": 0,
            "description_tooltip": null,
            "_model_module": "@jupyter-widgets/controls",
            "layout": "IPY_MODEL_11f2f57384f241adb7681444ce8b120a"
          }
        },
        "7b6655f3313c43c9887afb69082d7d2d": {
          "model_module": "@jupyter-widgets/controls",
          "model_name": "HTMLModel",
          "state": {
            "_view_name": "HTMLView",
            "style": "IPY_MODEL_a92befe19dfa402d810ac066fc548dd1",
            "_dom_classes": [],
            "description": "",
            "_model_name": "HTMLModel",
            "placeholder": "​",
            "_view_module": "@jupyter-widgets/controls",
            "_model_module_version": "1.5.0",
            "value": " 85.0/85.0 [00:50&lt;00:00, 1.69B/s]",
            "_view_count": null,
            "_view_module_version": "1.5.0",
            "description_tooltip": null,
            "_model_module": "@jupyter-widgets/controls",
            "layout": "IPY_MODEL_d52d9b912aa44b49840289f307bb113d"
          }
        },
        "94ee01fc5644428f8c9a2ac233db9a3f": {
          "model_module": "@jupyter-widgets/controls",
          "model_name": "ProgressStyleModel",
          "state": {
            "_view_name": "StyleView",
            "_model_name": "ProgressStyleModel",
            "description_width": "initial",
            "_view_module": "@jupyter-widgets/base",
            "_model_module_version": "1.5.0",
            "_view_count": null,
            "_view_module_version": "1.2.0",
            "bar_color": null,
            "_model_module": "@jupyter-widgets/controls"
          }
        },
        "11f2f57384f241adb7681444ce8b120a": {
          "model_module": "@jupyter-widgets/base",
          "model_name": "LayoutModel",
          "state": {
            "_view_name": "LayoutView",
            "grid_template_rows": null,
            "right": null,
            "justify_content": null,
            "_view_module": "@jupyter-widgets/base",
            "overflow": null,
            "_model_module_version": "1.2.0",
            "_view_count": null,
            "flex_flow": null,
            "width": null,
            "min_width": null,
            "border": null,
            "align_items": null,
            "bottom": null,
            "_model_module": "@jupyter-widgets/base",
            "top": null,
            "grid_column": null,
            "overflow_y": null,
            "overflow_x": null,
            "grid_auto_flow": null,
            "grid_area": null,
            "grid_template_columns": null,
            "flex": null,
            "_model_name": "LayoutModel",
            "justify_items": null,
            "grid_row": null,
            "max_height": null,
            "align_content": null,
            "visibility": null,
            "align_self": null,
            "height": null,
            "min_height": null,
            "padding": null,
            "grid_auto_rows": null,
            "grid_gap": null,
            "max_width": null,
            "order": null,
            "_view_module_version": "1.2.0",
            "grid_template_areas": null,
            "object_position": null,
            "object_fit": null,
            "grid_auto_columns": null,
            "margin": null,
            "display": null,
            "left": null
          }
        },
        "a92befe19dfa402d810ac066fc548dd1": {
          "model_module": "@jupyter-widgets/controls",
          "model_name": "DescriptionStyleModel",
          "state": {
            "_view_name": "StyleView",
            "_model_name": "DescriptionStyleModel",
            "description_width": "",
            "_view_module": "@jupyter-widgets/base",
            "_model_module_version": "1.5.0",
            "_view_count": null,
            "_view_module_version": "1.2.0",
            "_model_module": "@jupyter-widgets/controls"
          }
        },
        "d52d9b912aa44b49840289f307bb113d": {
          "model_module": "@jupyter-widgets/base",
          "model_name": "LayoutModel",
          "state": {
            "_view_name": "LayoutView",
            "grid_template_rows": null,
            "right": null,
            "justify_content": null,
            "_view_module": "@jupyter-widgets/base",
            "overflow": null,
            "_model_module_version": "1.2.0",
            "_view_count": null,
            "flex_flow": null,
            "width": null,
            "min_width": null,
            "border": null,
            "align_items": null,
            "bottom": null,
            "_model_module": "@jupyter-widgets/base",
            "top": null,
            "grid_column": null,
            "overflow_y": null,
            "overflow_x": null,
            "grid_auto_flow": null,
            "grid_area": null,
            "grid_template_columns": null,
            "flex": null,
            "_model_name": "LayoutModel",
            "justify_items": null,
            "grid_row": null,
            "max_height": null,
            "align_content": null,
            "visibility": null,
            "align_self": null,
            "height": null,
            "min_height": null,
            "padding": null,
            "grid_auto_rows": null,
            "grid_gap": null,
            "max_width": null,
            "order": null,
            "_view_module_version": "1.2.0",
            "grid_template_areas": null,
            "object_position": null,
            "object_fit": null,
            "grid_auto_columns": null,
            "margin": null,
            "display": null,
            "left": null
          }
        },
        "19cd55a90c504f528fb58c218ee37d4a": {
          "model_module": "@jupyter-widgets/controls",
          "model_name": "HBoxModel",
          "state": {
            "_view_name": "HBoxView",
            "_dom_classes": [],
            "_model_name": "HBoxModel",
            "_view_module": "@jupyter-widgets/controls",
            "_model_module_version": "1.5.0",
            "_view_count": null,
            "_view_module_version": "1.5.0",
            "box_style": "",
            "layout": "IPY_MODEL_cb28c6a4ad974985ba1d012d00a91798",
            "_model_module": "@jupyter-widgets/controls",
            "children": [
              "IPY_MODEL_a687e15931f549628d17999f8f2282bb",
              "IPY_MODEL_058caf3940d9447ba1f998ce2f7e47e2"
            ]
          }
        },
        "cb28c6a4ad974985ba1d012d00a91798": {
          "model_module": "@jupyter-widgets/base",
          "model_name": "LayoutModel",
          "state": {
            "_view_name": "LayoutView",
            "grid_template_rows": null,
            "right": null,
            "justify_content": null,
            "_view_module": "@jupyter-widgets/base",
            "overflow": null,
            "_model_module_version": "1.2.0",
            "_view_count": null,
            "flex_flow": null,
            "width": null,
            "min_width": null,
            "border": null,
            "align_items": null,
            "bottom": null,
            "_model_module": "@jupyter-widgets/base",
            "top": null,
            "grid_column": null,
            "overflow_y": null,
            "overflow_x": null,
            "grid_auto_flow": null,
            "grid_area": null,
            "grid_template_columns": null,
            "flex": null,
            "_model_name": "LayoutModel",
            "justify_items": null,
            "grid_row": null,
            "max_height": null,
            "align_content": null,
            "visibility": null,
            "align_self": null,
            "height": null,
            "min_height": null,
            "padding": null,
            "grid_auto_rows": null,
            "grid_gap": null,
            "max_width": null,
            "order": null,
            "_view_module_version": "1.2.0",
            "grid_template_areas": null,
            "object_position": null,
            "object_fit": null,
            "grid_auto_columns": null,
            "margin": null,
            "display": null,
            "left": null
          }
        },
        "a687e15931f549628d17999f8f2282bb": {
          "model_module": "@jupyter-widgets/controls",
          "model_name": "FloatProgressModel",
          "state": {
            "_view_name": "ProgressView",
            "style": "IPY_MODEL_05811c9962bd4a429cba0bcb105ca272",
            "_dom_classes": [],
            "description": "Downloading: 100%",
            "_model_name": "FloatProgressModel",
            "bar_style": "success",
            "max": 1608,
            "_view_module": "@jupyter-widgets/controls",
            "_model_module_version": "1.5.0",
            "value": 1608,
            "_view_count": null,
            "_view_module_version": "1.5.0",
            "orientation": "horizontal",
            "min": 0,
            "description_tooltip": null,
            "_model_module": "@jupyter-widgets/controls",
            "layout": "IPY_MODEL_531ad21c51ec4f8f9842b023681e8281"
          }
        },
        "058caf3940d9447ba1f998ce2f7e47e2": {
          "model_module": "@jupyter-widgets/controls",
          "model_name": "HTMLModel",
          "state": {
            "_view_name": "HTMLView",
            "style": "IPY_MODEL_baad8582d69a4d6ea1c1cd6a6a4bee90",
            "_dom_classes": [],
            "description": "",
            "_model_name": "HTMLModel",
            "placeholder": "​",
            "_view_module": "@jupyter-widgets/controls",
            "_model_module_version": "1.5.0",
            "value": " 1.61k/1.61k [00:00&lt;00:00, 1.70kB/s]",
            "_view_count": null,
            "_view_module_version": "1.5.0",
            "description_tooltip": null,
            "_model_module": "@jupyter-widgets/controls",
            "layout": "IPY_MODEL_07290075f8c94ce4b9cb0d1b34e1d58c"
          }
        },
        "05811c9962bd4a429cba0bcb105ca272": {
          "model_module": "@jupyter-widgets/controls",
          "model_name": "ProgressStyleModel",
          "state": {
            "_view_name": "StyleView",
            "_model_name": "ProgressStyleModel",
            "description_width": "initial",
            "_view_module": "@jupyter-widgets/base",
            "_model_module_version": "1.5.0",
            "_view_count": null,
            "_view_module_version": "1.2.0",
            "bar_color": null,
            "_model_module": "@jupyter-widgets/controls"
          }
        },
        "531ad21c51ec4f8f9842b023681e8281": {
          "model_module": "@jupyter-widgets/base",
          "model_name": "LayoutModel",
          "state": {
            "_view_name": "LayoutView",
            "grid_template_rows": null,
            "right": null,
            "justify_content": null,
            "_view_module": "@jupyter-widgets/base",
            "overflow": null,
            "_model_module_version": "1.2.0",
            "_view_count": null,
            "flex_flow": null,
            "width": null,
            "min_width": null,
            "border": null,
            "align_items": null,
            "bottom": null,
            "_model_module": "@jupyter-widgets/base",
            "top": null,
            "grid_column": null,
            "overflow_y": null,
            "overflow_x": null,
            "grid_auto_flow": null,
            "grid_area": null,
            "grid_template_columns": null,
            "flex": null,
            "_model_name": "LayoutModel",
            "justify_items": null,
            "grid_row": null,
            "max_height": null,
            "align_content": null,
            "visibility": null,
            "align_self": null,
            "height": null,
            "min_height": null,
            "padding": null,
            "grid_auto_rows": null,
            "grid_gap": null,
            "max_width": null,
            "order": null,
            "_view_module_version": "1.2.0",
            "grid_template_areas": null,
            "object_position": null,
            "object_fit": null,
            "grid_auto_columns": null,
            "margin": null,
            "display": null,
            "left": null
          }
        },
        "baad8582d69a4d6ea1c1cd6a6a4bee90": {
          "model_module": "@jupyter-widgets/controls",
          "model_name": "DescriptionStyleModel",
          "state": {
            "_view_name": "StyleView",
            "_model_name": "DescriptionStyleModel",
            "description_width": "",
            "_view_module": "@jupyter-widgets/base",
            "_model_module_version": "1.5.0",
            "_view_count": null,
            "_view_module_version": "1.2.0",
            "_model_module": "@jupyter-widgets/controls"
          }
        },
        "07290075f8c94ce4b9cb0d1b34e1d58c": {
          "model_module": "@jupyter-widgets/base",
          "model_name": "LayoutModel",
          "state": {
            "_view_name": "LayoutView",
            "grid_template_rows": null,
            "right": null,
            "justify_content": null,
            "_view_module": "@jupyter-widgets/base",
            "overflow": null,
            "_model_module_version": "1.2.0",
            "_view_count": null,
            "flex_flow": null,
            "width": null,
            "min_width": null,
            "border": null,
            "align_items": null,
            "bottom": null,
            "_model_module": "@jupyter-widgets/base",
            "top": null,
            "grid_column": null,
            "overflow_y": null,
            "overflow_x": null,
            "grid_auto_flow": null,
            "grid_area": null,
            "grid_template_columns": null,
            "flex": null,
            "_model_name": "LayoutModel",
            "justify_items": null,
            "grid_row": null,
            "max_height": null,
            "align_content": null,
            "visibility": null,
            "align_self": null,
            "height": null,
            "min_height": null,
            "padding": null,
            "grid_auto_rows": null,
            "grid_gap": null,
            "max_width": null,
            "order": null,
            "_view_module_version": "1.2.0",
            "grid_template_areas": null,
            "object_position": null,
            "object_fit": null,
            "grid_auto_columns": null,
            "margin": null,
            "display": null,
            "left": null
          }
        },
        "0317b21b010d48cea1fc36b5e822e4de": {
          "model_module": "@jupyter-widgets/controls",
          "model_name": "HBoxModel",
          "state": {
            "_view_name": "HBoxView",
            "_dom_classes": [],
            "_model_name": "HBoxModel",
            "_view_module": "@jupyter-widgets/controls",
            "_model_module_version": "1.5.0",
            "_view_count": null,
            "_view_module_version": "1.5.0",
            "box_style": "",
            "layout": "IPY_MODEL_ac39066b2cc846f4a8c08a98e9c2b8f4",
            "_model_module": "@jupyter-widgets/controls",
            "children": [
              "IPY_MODEL_1be21897bf664140943b514929694be9",
              "IPY_MODEL_c933959628e04c2a9c23104100f70492"
            ]
          }
        },
        "ac39066b2cc846f4a8c08a98e9c2b8f4": {
          "model_module": "@jupyter-widgets/base",
          "model_name": "LayoutModel",
          "state": {
            "_view_name": "LayoutView",
            "grid_template_rows": null,
            "right": null,
            "justify_content": null,
            "_view_module": "@jupyter-widgets/base",
            "overflow": null,
            "_model_module_version": "1.2.0",
            "_view_count": null,
            "flex_flow": null,
            "width": null,
            "min_width": null,
            "border": null,
            "align_items": null,
            "bottom": null,
            "_model_module": "@jupyter-widgets/base",
            "top": null,
            "grid_column": null,
            "overflow_y": null,
            "overflow_x": null,
            "grid_auto_flow": null,
            "grid_area": null,
            "grid_template_columns": null,
            "flex": null,
            "_model_name": "LayoutModel",
            "justify_items": null,
            "grid_row": null,
            "max_height": null,
            "align_content": null,
            "visibility": null,
            "align_self": null,
            "height": null,
            "min_height": null,
            "padding": null,
            "grid_auto_rows": null,
            "grid_gap": null,
            "max_width": null,
            "order": null,
            "_view_module_version": "1.2.0",
            "grid_template_areas": null,
            "object_position": null,
            "object_fit": null,
            "grid_auto_columns": null,
            "margin": null,
            "display": null,
            "left": null
          }
        },
        "1be21897bf664140943b514929694be9": {
          "model_module": "@jupyter-widgets/controls",
          "model_name": "FloatProgressModel",
          "state": {
            "_view_name": "ProgressView",
            "style": "IPY_MODEL_ab5e16bb12444721986c5edde8dcc76f",
            "_dom_classes": [],
            "description": "Downloading: 100%",
            "_model_name": "FloatProgressModel",
            "bar_style": "success",
            "max": 1262065047,
            "_view_module": "@jupyter-widgets/controls",
            "_model_module_version": "1.5.0",
            "value": 1262065047,
            "_view_count": null,
            "_view_module_version": "1.5.0",
            "orientation": "horizontal",
            "min": 0,
            "description_tooltip": null,
            "_model_module": "@jupyter-widgets/controls",
            "layout": "IPY_MODEL_f74642b6df2a46f19241d5e9576e5ce5"
          }
        },
        "c933959628e04c2a9c23104100f70492": {
          "model_module": "@jupyter-widgets/controls",
          "model_name": "HTMLModel",
          "state": {
            "_view_name": "HTMLView",
            "style": "IPY_MODEL_70664289a26b4c82ad8158240ccab6b5",
            "_dom_classes": [],
            "description": "",
            "_model_name": "HTMLModel",
            "placeholder": "​",
            "_view_module": "@jupyter-widgets/controls",
            "_model_module_version": "1.5.0",
            "value": " 1.26G/1.26G [00:48&lt;00:00, 26.0MB/s]",
            "_view_count": null,
            "_view_module_version": "1.5.0",
            "description_tooltip": null,
            "_model_module": "@jupyter-widgets/controls",
            "layout": "IPY_MODEL_e2043d38807147bdbd758a6a483fa897"
          }
        },
        "ab5e16bb12444721986c5edde8dcc76f": {
          "model_module": "@jupyter-widgets/controls",
          "model_name": "ProgressStyleModel",
          "state": {
            "_view_name": "StyleView",
            "_model_name": "ProgressStyleModel",
            "description_width": "initial",
            "_view_module": "@jupyter-widgets/base",
            "_model_module_version": "1.5.0",
            "_view_count": null,
            "_view_module_version": "1.2.0",
            "bar_color": null,
            "_model_module": "@jupyter-widgets/controls"
          }
        },
        "f74642b6df2a46f19241d5e9576e5ce5": {
          "model_module": "@jupyter-widgets/base",
          "model_name": "LayoutModel",
          "state": {
            "_view_name": "LayoutView",
            "grid_template_rows": null,
            "right": null,
            "justify_content": null,
            "_view_module": "@jupyter-widgets/base",
            "overflow": null,
            "_model_module_version": "1.2.0",
            "_view_count": null,
            "flex_flow": null,
            "width": null,
            "min_width": null,
            "border": null,
            "align_items": null,
            "bottom": null,
            "_model_module": "@jupyter-widgets/base",
            "top": null,
            "grid_column": null,
            "overflow_y": null,
            "overflow_x": null,
            "grid_auto_flow": null,
            "grid_area": null,
            "grid_template_columns": null,
            "flex": null,
            "_model_name": "LayoutModel",
            "justify_items": null,
            "grid_row": null,
            "max_height": null,
            "align_content": null,
            "visibility": null,
            "align_self": null,
            "height": null,
            "min_height": null,
            "padding": null,
            "grid_auto_rows": null,
            "grid_gap": null,
            "max_width": null,
            "order": null,
            "_view_module_version": "1.2.0",
            "grid_template_areas": null,
            "object_position": null,
            "object_fit": null,
            "grid_auto_columns": null,
            "margin": null,
            "display": null,
            "left": null
          }
        },
        "70664289a26b4c82ad8158240ccab6b5": {
          "model_module": "@jupyter-widgets/controls",
          "model_name": "DescriptionStyleModel",
          "state": {
            "_view_name": "StyleView",
            "_model_name": "DescriptionStyleModel",
            "description_width": "",
            "_view_module": "@jupyter-widgets/base",
            "_model_module_version": "1.5.0",
            "_view_count": null,
            "_view_module_version": "1.2.0",
            "_model_module": "@jupyter-widgets/controls"
          }
        },
        "e2043d38807147bdbd758a6a483fa897": {
          "model_module": "@jupyter-widgets/base",
          "model_name": "LayoutModel",
          "state": {
            "_view_name": "LayoutView",
            "grid_template_rows": null,
            "right": null,
            "justify_content": null,
            "_view_module": "@jupyter-widgets/base",
            "overflow": null,
            "_model_module_version": "1.2.0",
            "_view_count": null,
            "flex_flow": null,
            "width": null,
            "min_width": null,
            "border": null,
            "align_items": null,
            "bottom": null,
            "_model_module": "@jupyter-widgets/base",
            "top": null,
            "grid_column": null,
            "overflow_y": null,
            "overflow_x": null,
            "grid_auto_flow": null,
            "grid_area": null,
            "grid_template_columns": null,
            "flex": null,
            "_model_name": "LayoutModel",
            "justify_items": null,
            "grid_row": null,
            "max_height": null,
            "align_content": null,
            "visibility": null,
            "align_self": null,
            "height": null,
            "min_height": null,
            "padding": null,
            "grid_auto_rows": null,
            "grid_gap": null,
            "max_width": null,
            "order": null,
            "_view_module_version": "1.2.0",
            "grid_template_areas": null,
            "object_position": null,
            "object_fit": null,
            "grid_auto_columns": null,
            "margin": null,
            "display": null,
            "left": null
          }
        }
      }
    }
  },
  "cells": [
    {
      "cell_type": "markdown",
      "metadata": {
        "id": "A_o7MKZzheRH"
      },
      "source": [
        "# Transcribing Audio in Hausa to Text (Crosslingual transcription) using kinyarwanda pretrained model\n",
        "Masakhane \\#studyNLP Exercise, May 2021\n"
      ]
    },
    {
      "cell_type": "markdown",
      "metadata": {
        "id": "kHe74torlmow"
      },
      "source": [
        "## 1. Load pre-trained model"
      ]
    },
    {
      "cell_type": "code",
      "metadata": {
        "id": "KxurfKrShf37"
      },
      "source": [
        "%%capture\n",
        "!pip install datasets==1.4.1\n",
        "!pip install transformers==4.4.0\n",
        "!pip install torchaudio\n",
        "!pip install librosa\n",
        "!pip install jiwer"
      ],
      "execution_count": null,
      "outputs": []
    },
    {
      "cell_type": "code",
      "metadata": {
        "colab": {
          "base_uri": "https://localhost:8080/",
          "height": 326,
          "referenced_widgets": [
            "805eb34727594d1fa74a35901caaf246",
            "3b3724eb807f4950946e6865d3db1955",
            "1fb167d64cd940429f0937974c6aa198",
            "0158920bf91746008c2798a9ce94c0d2",
            "b3491108d7a543c59cbd999acde40dac",
            "fa68edf76adb4bdd8d93c873160bc5ff",
            "d918747ff3f643e58b1348bb4a564f5d",
            "af3564831df4425496f9323d3429c94b",
            "6e1e9a45f04d4079aaed86cfe23926af",
            "012a38a5ca1945d69e803f5baa450679",
            "ac173218fde94ffbaa7f02ce750bb962",
            "cf10eb7697bd43e7ba4d408655f66e32",
            "a4979dc1732e475ca75c40b800f5550d",
            "4c4c1caf5eaf410293e8afbb9fbeba1e",
            "5246b27a5b244b8fa38969c64cf24594",
            "b93a327e839a40a2847cd1bab6cb8a8a",
            "d8ff6ffce11547d88df8788c426f9de1",
            "8a8ad53a4b98409da03b4d5955e8b0f0",
            "f26ea757636342489376dc5e2e06e796",
            "e5beb4959aea4912b47692d909fb5664",
            "d94a903d198a42baad2b6e6389a1e06d",
            "286da29ede514957bd460751c8b2351e",
            "a527c7a7c68246409a784535ad37b19a",
            "99cca9a76ba648cea39a2cb75fc5889c",
            "92c21b7c9f4946eba75279ad6e166168",
            "8c0dff97acbe43319c89995355adb2ba",
            "fda3f40e8d5d4d3a86d7bff49bb11842",
            "7b6655f3313c43c9887afb69082d7d2d",
            "94ee01fc5644428f8c9a2ac233db9a3f",
            "11f2f57384f241adb7681444ce8b120a",
            "a92befe19dfa402d810ac066fc548dd1",
            "d52d9b912aa44b49840289f307bb113d",
            "19cd55a90c504f528fb58c218ee37d4a",
            "cb28c6a4ad974985ba1d012d00a91798",
            "a687e15931f549628d17999f8f2282bb",
            "058caf3940d9447ba1f998ce2f7e47e2",
            "05811c9962bd4a429cba0bcb105ca272",
            "531ad21c51ec4f8f9842b023681e8281",
            "baad8582d69a4d6ea1c1cd6a6a4bee90",
            "07290075f8c94ce4b9cb0d1b34e1d58c",
            "0317b21b010d48cea1fc36b5e822e4de",
            "ac39066b2cc846f4a8c08a98e9c2b8f4",
            "1be21897bf664140943b514929694be9",
            "c933959628e04c2a9c23104100f70492",
            "ab5e16bb12444721986c5edde8dcc76f",
            "f74642b6df2a46f19241d5e9576e5ce5",
            "70664289a26b4c82ad8158240ccab6b5",
            "e2043d38807147bdbd758a6a483fa897"
          ]
        },
        "id": "B5fnCZ-1hf6c",
        "outputId": "efd59dc5-428d-4831-bdc5-82a4b243158f"
      },
      "source": [
        "# code copied from huggingface.io link above, with edits to fit this exercise\n",
        "# import processor and model\n",
        "from transformers import Wav2Vec2ForCTC, Wav2Vec2Processor\n",
        "\n",
        "processor = Wav2Vec2Processor.from_pretrained(\"lucio/wav2vec2-large-xlsr-kinyarwanda\") \n",
        "model = Wav2Vec2ForCTC.from_pretrained(\"lucio/wav2vec2-large-xlsr-kinyarwanda\")\n"
      ],
      "execution_count": null,
      "outputs": [
        {
          "output_type": "display_data",
          "data": {
            "application/vnd.jupyter.widget-view+json": {
              "model_id": "805eb34727594d1fa74a35901caaf246",
              "version_minor": 0,
              "version_major": 2
            },
            "text/plain": [
              "HBox(children=(FloatProgress(value=0.0, description='Downloading', max=158.0, style=ProgressStyle(description_…"
            ]
          },
          "metadata": {
            "tags": []
          }
        },
        {
          "output_type": "stream",
          "text": [
            "\n"
          ],
          "name": "stdout"
        },
        {
          "output_type": "display_data",
          "data": {
            "application/vnd.jupyter.widget-view+json": {
              "model_id": "6e1e9a45f04d4079aaed86cfe23926af",
              "version_minor": 0,
              "version_major": 2
            },
            "text/plain": [
              "HBox(children=(FloatProgress(value=0.0, description='Downloading', max=259.0, style=ProgressStyle(description_…"
            ]
          },
          "metadata": {
            "tags": []
          }
        },
        {
          "output_type": "stream",
          "text": [
            "\n"
          ],
          "name": "stdout"
        },
        {
          "output_type": "display_data",
          "data": {
            "application/vnd.jupyter.widget-view+json": {
              "model_id": "d8ff6ffce11547d88df8788c426f9de1",
              "version_minor": 0,
              "version_major": 2
            },
            "text/plain": [
              "HBox(children=(FloatProgress(value=0.0, description='Downloading', max=138.0, style=ProgressStyle(description_…"
            ]
          },
          "metadata": {
            "tags": []
          }
        },
        {
          "output_type": "stream",
          "text": [
            "\n"
          ],
          "name": "stdout"
        },
        {
          "output_type": "display_data",
          "data": {
            "application/vnd.jupyter.widget-view+json": {
              "model_id": "92c21b7c9f4946eba75279ad6e166168",
              "version_minor": 0,
              "version_major": 2
            },
            "text/plain": [
              "HBox(children=(FloatProgress(value=0.0, description='Downloading', max=85.0, style=ProgressStyle(description_w…"
            ]
          },
          "metadata": {
            "tags": []
          }
        },
        {
          "output_type": "stream",
          "text": [
            "\n"
          ],
          "name": "stdout"
        },
        {
          "output_type": "stream",
          "text": [
            "Special tokens have been added in the vocabulary, make sure the associated word embedding are fine-tuned or trained.\n"
          ],
          "name": "stderr"
        },
        {
          "output_type": "display_data",
          "data": {
            "application/vnd.jupyter.widget-view+json": {
              "model_id": "19cd55a90c504f528fb58c218ee37d4a",
              "version_minor": 0,
              "version_major": 2
            },
            "text/plain": [
              "HBox(children=(FloatProgress(value=0.0, description='Downloading', max=1608.0, style=ProgressStyle(description…"
            ]
          },
          "metadata": {
            "tags": []
          }
        },
        {
          "output_type": "stream",
          "text": [
            "\n"
          ],
          "name": "stdout"
        },
        {
          "output_type": "display_data",
          "data": {
            "application/vnd.jupyter.widget-view+json": {
              "model_id": "0317b21b010d48cea1fc36b5e822e4de",
              "version_minor": 0,
              "version_major": 2
            },
            "text/plain": [
              "HBox(children=(FloatProgress(value=0.0, description='Downloading', max=1262065047.0, style=ProgressStyle(descr…"
            ]
          },
          "metadata": {
            "tags": []
          }
        },
        {
          "output_type": "stream",
          "text": [
            "\n"
          ],
          "name": "stdout"
        }
      ]
    },
    {
      "cell_type": "markdown",
      "metadata": {
        "id": "RsM8HJ_hvXNI"
      },
      "source": [
        "## 2. Load Hausa audio"
      ]
    },
    {
      "cell_type": "code",
      "metadata": {
        "id": "R6bnPqbRu6tE"
      },
      "source": [
        "# #run this cell to upload audio from your local disk\n",
        "# from google.colab import files\n",
        "# files.upload()"
      ],
      "execution_count": null,
      "outputs": []
    },
    {
      "cell_type": "code",
      "metadata": {
        "colab": {
          "base_uri": "https://localhost:8080/"
        },
        "id": "cDwAKdNkBfQ9",
        "outputId": "320a5ae0-47da-494f-d6dd-510bb7a4cec4"
      },
      "source": [
        "from google.colab import drive\n",
        "drive.mount('/content/gdrive/')"
      ],
      "execution_count": null,
      "outputs": [
        {
          "output_type": "stream",
          "text": [
            "Mounted at /content/gdrive/\n"
          ],
          "name": "stdout"
        }
      ]
    },
    {
      "cell_type": "code",
      "metadata": {
        "colab": {
          "base_uri": "https://localhost:8080/",
          "height": 75
        },
        "id": "6oGnRzeshf9s",
        "outputId": "6769a0bc-786e-4139-b9dc-08ab8bad86ce"
      },
      "source": [
        "# Hausa audio\n",
        "from IPython.display import Audio\n",
        "filename = \"/content/gdrive/MyDrive/recordings_FrogRecordings_200702-175211_hau_e35_elicit_200702-175211_hau_e35_elicit_0.wav\"\n",
        "Audio(filename)"
      ],
      "execution_count": null,
      "outputs": [
        {
          "output_type": "execute_result",
          "data": {
            "text/html": [
              "\n",
              "                <audio controls=\"controls\" >\n",
              "                    <source src=\"data:audio/x-wav;base64,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\" type=\"audio/x-wav\" />\n",
              "                    Your browser does not support the audio element.\n",
              "                </audio>\n",
              "              "
            ],
            "text/plain": [
              "<IPython.lib.display.Audio object>"
            ]
          },
          "metadata": {
            "tags": []
          },
          "execution_count": 26
        }
      ]
    },
    {
      "cell_type": "code",
      "metadata": {
        "colab": {
          "base_uri": "https://localhost:8080/"
        },
        "id": "fgML4mM2wOpc",
        "outputId": "22ac3afe-3a07-4191-e648-76ec4ea98342"
      },
      "source": [
        "# save audio as a tensor\n",
        "import torchaudio\n",
        "speech, rate = torchaudio.load(filename)\n",
        "print(\"rate:\", rate)\n",
        "print(\"audio as a tensor:\", speech)"
      ],
      "execution_count": null,
      "outputs": [
        {
          "output_type": "stream",
          "text": [
            "rate: 16000\n",
            "audio as a tensor: tensor([[-0.0006, -0.0006, -0.0006,  ...,  0.0005,  0.0004,  0.0005]])\n"
          ],
          "name": "stdout"
        }
      ]
    },
    {
      "cell_type": "markdown",
      "metadata": {
        "id": "MIZTRuCy0F5i"
      },
      "source": [
        "The model was trained on 16 kHz audio, which is the same rate as this file. No need to do any resampling. "
      ]
    },
    {
      "cell_type": "markdown",
      "metadata": {
        "id": "iOaxfADJvb5X"
      },
      "source": [
        "## 3. Apply model to transcribe Hausa audio"
      ]
    },
    {
      "cell_type": "code",
      "metadata": {
        "colab": {
          "base_uri": "https://localhost:8080/"
        },
        "id": "xY_ll1AYhgAd",
        "outputId": "21ae5c59-ccca-4e28-fb14-0a5748c653f8"
      },
      "source": [
        "# code copied from huggingface.io link above\n",
        "import torch \n",
        "\n",
        "speech = speech.squeeze().numpy()\n",
        "inputs = processor(speech, sampling_rate=16_000, return_tensors=\"pt\", padding=True)\n",
        "with torch.no_grad():\n",
        "    logits = model(inputs.input_values, attention_mask=inputs.attention_mask).logits\n",
        "predicted_ids = torch.argmax(logits, dim=-1)\n",
        "print(\"Prediction:\", processor.batch_decode(predicted_ids))\n",
        "\n",
        "# reference text provided by AMMI speech dataset project\n",
        "print(\"Reference: Yaro da kare suna wasa a cikin gulibi.\")"
      ],
      "execution_count": null,
      "outputs": [
        {
          "output_type": "stream",
          "text": [
            "Prediction: ['yarodakare so nawe wasa acik ngulibi']\n",
            "Reference: Yaro da kare suna wasa a cikin gulibi.\n"
          ],
          "name": "stdout"
        }
      ]
    },
    {
      "cell_type": "markdown",
      "metadata": {
        "id": "04KjYiog3LQR"
      },
      "source": [
        "\n",
        "###Yayyy!!! This result is pretty amazing. \n",
        "* It is an evidence that cross-lingual transcription is a possiblity! Let's start exploring this awesome revelation!\n",
        "* What can be done to make it better, especially where the words did not align properly in terms of spacing between words?\n",
        "\n",
        "###Voice credit (Native speaker elicitation)\n",
        "Dattijo Murtala Makama, African Masters of Machine Intelligence (AMMI)\n",
        "\n",
        "https://github.com/tunde99/AMMI-2020-SPEECH-COURSE/tree/master/recordings/FrogRecordings/200702-175211_hau_e35_elicit"
      ]
    }
  ]
}