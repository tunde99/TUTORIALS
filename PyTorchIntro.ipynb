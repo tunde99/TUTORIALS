{
  "nbformat": 4,
  "nbformat_minor": 0,
  "metadata": {
    "colab": {
      "name": "PyTorchIntro.ipynb",
      "provenance": [],
      "collapsed_sections": [],
      "authorship_tag": "ABX9TyNwDTsvrFW+H1p1rGiqLjTA",
      "include_colab_link": true
    },
    "kernelspec": {
      "name": "python3",
      "display_name": "Python 3"
    },
    "language_info": {
      "name": "python"
    }
  },
  "cells": [
    {
      "cell_type": "markdown",
      "metadata": {
        "id": "view-in-github",
        "colab_type": "text"
      },
      "source": [
        "<a href=\"https://colab.research.google.com/github/tunde99/TUTORIALS/blob/main/PyTorchIntro.ipynb\" target=\"_parent\"><img src=\"https://colab.research.google.com/assets/colab-badge.svg\" alt=\"Open In Colab\"/></a>"
      ]
    },
    {
      "cell_type": "markdown",
      "metadata": {
        "id": "AoU2kIbz8P2W"
      },
      "source": [
        "# Introduction to PyTorch"
      ]
    },
    {
      "cell_type": "code",
      "metadata": {
        "colab": {
          "base_uri": "https://localhost:8080/"
        },
        "id": "0JudMj6A3jwZ",
        "outputId": "a192f50b-b978-44e8-fbab-4b48152b99b9"
      },
      "source": [
        "# import dependencies\n",
        "import torch\n",
        "import torch.autograd as autograd\n",
        "import torch.nn as nn\n",
        "import torch.nn.functional as F\n",
        "import torch.optim as optim\n",
        "\n",
        "torch.manual_seed(1)"
      ],
      "execution_count": 1,
      "outputs": [
        {
          "output_type": "execute_result",
          "data": {
            "text/plain": [
              "<torch._C.Generator at 0x7f352984b810>"
            ]
          },
          "metadata": {
            "tags": []
          },
          "execution_count": 1
        }
      ]
    },
    {
      "cell_type": "code",
      "metadata": {
        "colab": {
          "base_uri": "https://localhost:8080/"
        },
        "id": "sE3oNOml39hz",
        "outputId": "37814e70-f441-48c6-c01b-151b62f1b79b"
      },
      "source": [
        "a = torch.randn((2,3,4))\n",
        "a"
      ],
      "execution_count": null,
      "outputs": [
        {
          "output_type": "execute_result",
          "data": {
            "text/plain": [
              "tensor([[[-1.8821, -0.7765,  2.0242, -0.0865],\n",
              "         [ 0.0981, -1.2150,  0.7312,  1.1718],\n",
              "         [-0.0255, -1.0233, -0.5962, -1.0055]],\n",
              "\n",
              "        [[-0.2106, -0.0075,  1.6734,  0.0103],\n",
              "         [-0.7040, -0.1853, -0.9962, -0.8313],\n",
              "         [-0.4610, -0.5601,  0.3956, -0.9823]]])"
            ]
          },
          "metadata": {
            "tags": []
          },
          "execution_count": 6
        }
      ]
    },
    {
      "cell_type": "code",
      "metadata": {
        "colab": {
          "base_uri": "https://localhost:8080/"
        },
        "id": "m5Q_0Bd_84bv",
        "outputId": "a22cd3e8-66c7-4063-f859-3a54bcdf59b3"
      },
      "source": [
        "print(a[0])"
      ],
      "execution_count": null,
      "outputs": [
        {
          "output_type": "stream",
          "text": [
            "tensor([[-1.8821, -0.7765,  2.0242, -0.0865],\n",
            "        [ 0.0981, -1.2150,  0.7312,  1.1718],\n",
            "        [-0.0255, -1.0233, -0.5962, -1.0055]])\n"
          ],
          "name": "stdout"
        }
      ]
    },
    {
      "cell_type": "code",
      "metadata": {
        "colab": {
          "base_uri": "https://localhost:8080/"
        },
        "id": "8XhvLRwq9kB0",
        "outputId": "9330e03f-3098-4c21-e3b3-daf0374cbd26"
      },
      "source": [
        "p = torch.tensor([1,2,3])\n",
        "q = torch.tensor([4,5,6])\n",
        "r = p+q\n",
        "print(r)"
      ],
      "execution_count": null,
      "outputs": [
        {
          "output_type": "stream",
          "text": [
            "tensor([5, 7, 9])\n"
          ],
          "name": "stdout"
        }
      ]
    },
    {
      "cell_type": "code",
      "metadata": {
        "id": "GauCBS0V-Yeg",
        "colab": {
          "base_uri": "https://localhost:8080/"
        },
        "outputId": "5d57b67d-16f5-4102-816d-28b2d5b3d006"
      },
      "source": [
        "a1 = torch.randn(2,3,3)\n",
        "print(a1)\n",
        "print(a1.dtype)"
      ],
      "execution_count": 8,
      "outputs": [
        {
          "output_type": "stream",
          "text": [
            "tensor([[[-0.1277,  0.2804, -0.9458],\n",
            "         [-1.3529,  3.3837, -2.4044],\n",
            "         [ 0.8437,  1.1657,  0.5269]],\n",
            "\n",
            "        [[ 1.6193,  0.9462,  0.3512],\n",
            "         [ 1.5728,  1.7185,  1.7223],\n",
            "         [-0.3036,  0.2389,  1.3440]]])\n",
            "torch.float32\n"
          ],
          "name": "stdout"
        }
      ]
    }
  ]
}