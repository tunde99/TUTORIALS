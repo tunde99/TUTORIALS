{
  "nbformat": 4,
  "nbformat_minor": 0,
  "metadata": {
    "colab": {
      "name": "multivariable_linear_regression_from_scratch.ipynb",
      "provenance": [],
      "collapsed_sections": [],
      "authorship_tag": "ABX9TyO+pyFCa25D8L6rjmy+Xn4O",
      "include_colab_link": true
    },
    "kernelspec": {
      "name": "python3",
      "display_name": "Python 3"
    },
    "language_info": {
      "name": "python"
    },
    "accelerator": "GPU"
  },
  "cells": [
    {
      "cell_type": "markdown",
      "metadata": {
        "id": "view-in-github",
        "colab_type": "text"
      },
      "source": [
        "<a href=\"https://colab.research.google.com/github/tunde99/TUTORIALS/blob/main/multivariable_linear_regression_from_scratch.ipynb\" target=\"_parent\"><img src=\"https://colab.research.google.com/assets/colab-badge.svg\" alt=\"Open In Colab\"/></a>"
      ]
    },
    {
      "cell_type": "markdown",
      "metadata": {
        "id": "LlkR3AQUoHuf"
      },
      "source": [
        "# Reference: click [here](https://www.youtube.com/watch?v=F2h1Ex7evVA&list=PL3Fc8qNch2_TA33HJRrKbtBrjMN-u5n7_&index=5)"
      ]
    },
    {
      "cell_type": "code",
      "metadata": {
        "id": "Fr4-uxCempiX"
      },
      "source": [
        "import numpy as np\n",
        "import matplotlib.pyplot as plt\n",
        "import seaborn as sns"
      ],
      "execution_count": null,
      "outputs": []
    },
    {
      "cell_type": "code",
      "metadata": {
        "id": "moeUwdAcm0aj"
      },
      "source": [
        "#1: Initialise parameters w, b\n",
        "def initialise_parameters(len_w):\n",
        "    w = np.random.randn(1,len_w)\n",
        "    b = 0\n",
        "    return w,b"
      ],
      "execution_count": null,
      "outputs": []
    },
    {
      "cell_type": "code",
      "metadata": {
        "id": "5TfxyyXCn7Oz"
      },
      "source": [
        "#2: compute forward propagation \n",
        "def forward_prop(X,w,b):  # w --> (1,n)   X --> (n,m)     z --> (1,m)\n",
        "    z = np.dot(w, X) + b\n",
        "    return z"
      ],
      "execution_count": null,
      "outputs": []
    },
    {
      "cell_type": "code",
      "metadata": {
        "id": "7e4ULTgQpDZK"
      },
      "source": [
        "#3: copmute the cost\n",
        "def cost_function(z, y):\n",
        "    m = y.shape[1]\n",
        "    J = (1/2*m) * np.sum(np.pow((z-y), 2))\n",
        "    return J"
      ],
      "execution_count": null,
      "outputs": []
    },
    {
      "cell_type": "code",
      "metadata": {
        "id": "4t5HbHB5qe-W"
      },
      "source": [
        "#4: compute back propagation\n",
        "def back_prop(X,y,z,b):\n",
        "    m = y.shape[1]\n",
        "    dz = 1/m * (z-y)\n",
        "    dw = np.dot(dz,X.T)\n",
        "    db = np.sum(dz)\n",
        "    return dw,db"
      ],
      "execution_count": null,
      "outputs": []
    },
    {
      "cell_type": "code",
      "metadata": {
        "id": "OG19mW9iscvv"
      },
      "source": [
        "#5: copmute gradient descent update rule\n",
        "def gradient_descent_update(w,b,dw,db,learning_rate):\n",
        "    w = w - learning_rate * dw\n",
        "    b = b - learning_rate * db\n",
        "    return w,b"
      ],
      "execution_count": null,
      "outputs": []
    },
    {
      "cell_type": "code",
      "metadata": {
        "id": "Kb0wsXnkteVu"
      },
      "source": [
        "# create model\n",
        "def linear_regression_model(X_train, y_train, X_val, y_val, epochs):\n",
        "    len_w = X_train.shape[0]\n",
        "    w,b = initialise_parameters(len_w) #1\n",
        "    \n",
        "    train_costs = []\n",
        "    m_train = y_train.shape[1]\n",
        "    m_val = y_val.shape[1]\n",
        "    for i in range(1,epochs):\n",
        "        z_train = forward_prop(X_train,w,b) #2\n",
        "        train_cost = cost_function(z_train, y_train) #3\n",
        "        dw,db = back_prop(X_train,y_train,z_train) #4\n",
        "        w,b = gradient_descent_update(w,b,dw,db,learning_rate) #5\n",
        "\n",
        "        # store training costs in a list\n",
        "        if i%10==0:\n",
        "            train_costs.append(train_cost)\n",
        "\n",
        "        # compute MAE\n",
        "        train_MAE = 1/m_train * np.sum(abs(z_train - y_train))\n",
        "\n",
        "        # compute validation cost and MAE\n",
        "        z_val = forward_prop(X_val,w,b)\n",
        "        val_cost = cost_function(z_val,y_val)\n",
        "        val_MAE = 1/m_val * np.abs(z_val - y_val)\n",
        "\n",
        "        # print train_cost, val_cost, train_MAE, val_MAE\n",
        "        print('Epoch ' + str(i) + '/ ' + str(epochs) + ': ' )\n",
        "        print('Training costs ' + str(train_cost) + '| ' + 'Validation costs ' +  str(val_cost))\n",
        "        print('Training MAE ' + str(train_MAE) + '| ' + 'Validation MAE ' +  str(val_MAE))\n",
        "\n",
        "        # visualisation\n",
        "        plt.plot(train_costs)\n",
        "        plt.xlabel = ('Iterations(per tens)')\n",
        "        plt.ylabel = ('Training costs')\n",
        "        plt.title('Learning rate')\n",
        "        plt.show()\n",
        "\n",
        "\n"
      ],
      "execution_count": null,
      "outputs": []
    },
    {
      "cell_type": "markdown",
      "metadata": {
        "id": "_Ma5NSpKL-Xt"
      },
      "source": [
        "# Implementation"
      ]
    },
    {
      "cell_type": "code",
      "metadata": {
        "id": "XD2Jz9Xs4rcF"
      },
      "source": [
        "import sklearn\n",
        "from sklearn.datasets import load_boston\n",
        "import pandas as pd\n",
        "np.random.seed(99)"
      ],
      "execution_count": null,
      "outputs": []
    },
    {
      "cell_type": "code",
      "metadata": {
        "id": "Is5i4yKz1M57"
      },
      "source": [
        "boston = load_boston()\n"
      ],
      "execution_count": null,
      "outputs": []
    },
    {
      "cell_type": "code",
      "metadata": {
        "colab": {
          "base_uri": "https://localhost:8080/"
        },
        "id": "OA95LDe9LH8_",
        "outputId": "8449c373-4631-4fc2-9796-7faad9ea8b1d"
      },
      "source": [
        "type(boston['data'])"
      ],
      "execution_count": null,
      "outputs": [
        {
          "output_type": "execute_result",
          "data": {
            "text/plain": [
              "numpy.ndarray"
            ]
          },
          "metadata": {
            "tags": []
          },
          "execution_count": 6
        }
      ]
    },
    {
      "cell_type": "code",
      "metadata": {
        "id": "i0RPBoI71be7",
        "colab": {
          "base_uri": "https://localhost:8080/"
        },
        "outputId": "29d39a5d-9d69-41cf-f249-bb9b1ea96e4a"
      },
      "source": [
        "boston['data']"
      ],
      "execution_count": null,
      "outputs": [
        {
          "output_type": "execute_result",
          "data": {
            "text/plain": [
              "array([[6.3200e-03, 1.8000e+01, 2.3100e+00, ..., 1.5300e+01, 3.9690e+02,\n",
              "        4.9800e+00],\n",
              "       [2.7310e-02, 0.0000e+00, 7.0700e+00, ..., 1.7800e+01, 3.9690e+02,\n",
              "        9.1400e+00],\n",
              "       [2.7290e-02, 0.0000e+00, 7.0700e+00, ..., 1.7800e+01, 3.9283e+02,\n",
              "        4.0300e+00],\n",
              "       ...,\n",
              "       [6.0760e-02, 0.0000e+00, 1.1930e+01, ..., 2.1000e+01, 3.9690e+02,\n",
              "        5.6400e+00],\n",
              "       [1.0959e-01, 0.0000e+00, 1.1930e+01, ..., 2.1000e+01, 3.9345e+02,\n",
              "        6.4800e+00],\n",
              "       [4.7410e-02, 0.0000e+00, 1.1930e+01, ..., 2.1000e+01, 3.9690e+02,\n",
              "        7.8800e+00]])"
            ]
          },
          "metadata": {
            "tags": []
          },
          "execution_count": 4
        }
      ]
    },
    {
      "cell_type": "code",
      "metadata": {
        "colab": {
          "base_uri": "https://localhost:8080/"
        },
        "id": "geiPycYDJKN7",
        "outputId": "40ed8245-ee7a-41ef-b3e0-21a7a0e815dc"
      },
      "source": [
        "boston_pd = pd.DataFrame(boston['data'], boston['target'])\n",
        "boston_pd.columns = boston.feature_names\n",
        "print(boston_pd.head(5))"
      ],
      "execution_count": null,
      "outputs": [
        {
          "output_type": "stream",
          "text": [
            "         CRIM    ZN  INDUS  CHAS    NOX  ...  RAD    TAX  PTRATIO       B  LSTAT\n",
            "24.0  0.00632  18.0   2.31   0.0  0.538  ...  1.0  296.0     15.3  396.90   4.98\n",
            "21.6  0.02731   0.0   7.07   0.0  0.469  ...  2.0  242.0     17.8  396.90   9.14\n",
            "34.7  0.02729   0.0   7.07   0.0  0.469  ...  2.0  242.0     17.8  392.83   4.03\n",
            "33.4  0.03237   0.0   2.18   0.0  0.458  ...  3.0  222.0     18.7  394.63   2.94\n",
            "36.2  0.06905   0.0   2.18   0.0  0.458  ...  3.0  222.0     18.7  396.90   5.33\n",
            "\n",
            "[5 rows x 13 columns]\n"
          ],
          "name": "stdout"
        }
      ]
    },
    {
      "cell_type": "code",
      "metadata": {
        "colab": {
          "base_uri": "https://localhost:8080/"
        },
        "id": "zLk6oiS1J7j7",
        "outputId": "e60b19ec-fac6-40ac-c88e-ac8323c02bab"
      },
      "source": [
        "print(type(boston['target']))\n",
        "print(boston['target'].shape)\n"
      ],
      "execution_count": null,
      "outputs": [
        {
          "output_type": "stream",
          "text": [
            "<class 'numpy.ndarray'>\n",
            "(506,)\n"
          ],
          "name": "stdout"
        }
      ]
    },
    {
      "cell_type": "code",
      "metadata": {
        "id": "zSBIYd1EKNCK"
      },
      "source": [
        "# split data\n",
        "X = boston['data']\n",
        "y = boston['target']\n",
        "m = len(X)\n",
        "np.random.seed(99)\n",
        "index = np.random.permutation(m)\n",
        "\n",
        "val_split = int(0.1*m)\n",
        "test_split = int(0.1*m)\n",
        "train_split = m - (val_split + test_split)\n",
        "\n",
        "test_size = index[:test_split]\n",
        "X_test = X[test_size]\n",
        "y_test = y[test_size]\n",
        "\n",
        "val_size = index[:test_split+val_split]\n",
        "X_val = X[val_size]\n",
        "y_val = y[val_size]\n",
        "\n",
        "train_size = index[test_split+val_split:]\n",
        "X_train = X[train_size]\n",
        "y_train = y[train_size]"
      ],
      "execution_count": null,
      "outputs": []
    },
    {
      "cell_type": "code",
      "metadata": {
        "colab": {
          "base_uri": "https://localhost:8080/"
        },
        "id": "bNS7-t5NNJtc",
        "outputId": "fdf127e3-8fa9-4827-f07e-71bd61a8b7af"
      },
      "source": [
        "print(X_train.shape)\n",
        "print(y_train.shape)\n",
        "print()\n",
        "#print(val_data)"
      ],
      "execution_count": null,
      "outputs": [
        {
          "output_type": "stream",
          "text": [
            "(406, 13)\n",
            "(406,)\n",
            "\n"
          ],
          "name": "stdout"
        }
      ]
    },
    {
      "cell_type": "code",
      "metadata": {
        "id": "WYvtUVu9bg2T"
      },
      "source": [
        ""
      ],
      "execution_count": null,
      "outputs": []
    }
  ]
}