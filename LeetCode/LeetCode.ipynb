{
  "nbformat": 4,
  "nbformat_minor": 0,
  "metadata": {
    "colab": {
      "name": "LeetCode.ipynb",
      "provenance": [],
      "authorship_tag": "ABX9TyO72nV8IOPINvypAsiDDQQt"
    },
    "kernelspec": {
      "name": "python3",
      "display_name": "Python 3"
    },
    "language_info": {
      "name": "python"
    },
    "accelerator": "GPU"
  },
  "cells": [
    {
      "cell_type": "markdown",
      "metadata": {
        "id": "uuK2cfu_fjHd"
      },
      "source": [
        "# Max Consecutive Ones\n",
        "\n",
        "\n",
        "Given a binary array nums, return the maximum number of consecutive 1's in the array.\n",
        "\n",
        "Example 1:\n",
        "\n",
        "Input: nums = [1,1,0,1,1,1]\n",
        "Output: 3\n",
        "\n",
        "Explanation: The first two digits or the last three digits are consecutive 1s. The maximum number of consecutive 1s is 3.\n",
        "\n",
        "Example 2:\n",
        "\n",
        "Input: nums = [1,0,1,1,0,1]\n",
        "Output: 2\n",
        "\n",
        "Constraints:\n",
        "\n",
        "*   1 <= nums.length <= 105   \n",
        "*   nums[i] is either 0 or 1."
      ]
    },
    {
      "cell_type": "code",
      "metadata": {
        "id": "IQpHX80udJxW",
        "colab": {
          "base_uri": "https://localhost:8080/"
        },
        "outputId": "111079fc-808c-4bcf-e716-5eb778987d2f"
      },
      "source": [
        "import numpy as np\n",
        "\n",
        "def max_consec_ones(nums):\n",
        "    # Initialise counter and count of ones to zero\n",
        "    counter = 0\n",
        "    count_ones = 0\n",
        "    \n",
        "    # loop through each elements in the array\n",
        "    for i in range(len(nums)):\n",
        "        if nums[i] == 1:\n",
        "            counter += 1        \n",
        "        if counter > count_ones:\n",
        "            count_ones += 1\n",
        "        if nums[i] == 0:\n",
        "            counter = 0      # reset counter whenever the element is zero    \n",
        "    \n",
        "    return count_ones\n",
        "\n",
        "print(max_consec_ones([1,1,0,1,1,1]))\n",
        "print(max_consec_ones([1,0,1,1,0,1]))\n",
        "print(max_consec_ones([0,1]))\n",
        "print(max_consec_ones([]))"
      ],
      "execution_count": null,
      "outputs": [
        {
          "output_type": "stream",
          "text": [
            "3\n",
            "2\n",
            "1\n",
            "0\n"
          ],
          "name": "stdout"
        }
      ]
    },
    {
      "cell_type": "markdown",
      "metadata": {
        "id": "waS8PH3hSwW8"
      },
      "source": [
        "# Prime numbers check\n"
      ]
    },
    {
      "cell_type": "code",
      "metadata": {
        "id": "JQ7p7r0KZo8a",
        "colab": {
          "base_uri": "https://localhost:8080/"
        },
        "outputId": "f5cb6acf-2c58-42a3-ea0a-cd00714f1308"
      },
      "source": [
        "def count_primes(n):\n",
        "    \n",
        "    # test if a number is prime\n",
        "    def prime_check(n):\n",
        "        is_prime = True\n",
        "        for i in range(2, n):\n",
        "            if n%i == 0:\n",
        "                is_prime = False\n",
        "        return is_prime\n",
        "    \n",
        "    # count the prime numbers        \n",
        "    count = 0\n",
        "    prime_list = []\n",
        "    for j in range(3, n):\n",
        "\n",
        "        if prime_check(j):\n",
        "           prime_list.append(j)\n",
        "           count+=1\n",
        "    print(f'The list of prime numbers: {prime_list}')\n",
        "    return f'count: {len(prime_list)}'\n",
        "\n",
        "    \n",
        "print(count_primes(2))\n",
        "\n"
      ],
      "execution_count": 42,
      "outputs": [
        {
          "output_type": "stream",
          "text": [
            "The list of prime numbers: []\n",
            "count: 0\n"
          ],
          "name": "stdout"
        }
      ]
    },
    {
      "cell_type": "markdown",
      "metadata": {
        "id": "OHPaAjz0ziYI"
      },
      "source": [
        "\n",
        "\n",
        "---\n",
        "\n",
        "\n",
        "\n",
        "---\n",
        "\n"
      ]
    },
    {
      "cell_type": "markdown",
      "metadata": {
        "id": "adqrCeOkSrNK"
      },
      "source": [
        "# Check if it is a straight line\n",
        "\n",
        "You are given an array coordinates, coordinates[i] = [x, y], where [x, y] represents the coordinate of a point. Check if these points make a straight line in the XY plane.\n",
        "\n",
        "Example 1:\n",
        "\n",
        "Input: coordinates = [[1,2],[2,3],[3,4],[4,5],[5,6],[6,7]]\n",
        "\n",
        "Output: true\n",
        "\n",
        "Example 2:\n",
        "\n",
        "Input: coordinates = [[1,1],[2,2],[3,4],[4,5],[5,6],[7,7]]\n",
        "\n",
        "Output: false"
      ]
    },
    {
      "cell_type": "code",
      "metadata": {
        "id": "MbqKeWE3SyJs"
      },
      "source": [
        "def check_line(lst):\n",
        "    for c in lst:\n",
        "        if sum(c)\n",
        "    "
      ],
      "execution_count": null,
      "outputs": []
    },
    {
      "cell_type": "code",
      "metadata": {
        "colab": {
          "base_uri": "https://localhost:8080/"
        },
        "id": "npLSts44UGRY",
        "outputId": "aaa12a94-a469-44c3-f8a5-49d12dd33950"
      },
      "source": [
        "import numpy as np\n",
        "lst1 = [[1,2],[2,3],[3,4],[4,5],[5,6],[6,7]]\n",
        "lst2 = [[1,1],[2,2],[3,4],[4,5],[5,6],[7,7]]\n",
        "\n",
        "def check_line(lst):\n",
        "    count = 0\n",
        "    total_lst =[]\n",
        "    while count < len(lst):\n",
        "        total = np.sum(lst[count])\n",
        "        total_lst.append(total)\n",
        "        count+=1\n",
        "   \n",
        "    # check the difference between sum elements\n",
        "    diff = [j-i for i, j in zip(total_lst[:-1], total_lst[1:])]\n",
        "    \n",
        "    # return True if all elements are equal\n",
        "    return all(x==diff[0] for x in diff)\n",
        "    \n",
        "print(check_line(lst1))  \n",
        "print(check_line(lst2))  "
      ],
      "execution_count": 143,
      "outputs": [
        {
          "output_type": "stream",
          "text": [
            "True\n",
            "False\n"
          ],
          "name": "stdout"
        }
      ]
    },
    {
      "cell_type": "code",
      "metadata": {
        "id": "SnvkziPQzcuI"
      },
      "source": [
        ""
      ],
      "execution_count": null,
      "outputs": []
    }
  ]
}